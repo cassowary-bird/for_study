{
 "cells": [
  {
   "cell_type": "code",
   "execution_count": 14,
   "metadata": {},
   "outputs": [],
   "source": [
    "import numpy as np\n",
    "import matplotlib.pyplot as plt\n",
    "import pickle\n",
    "%matplotlib inline"
   ]
  },
  {
   "cell_type": "code",
   "execution_count": 15,
   "metadata": {},
   "outputs": [],
   "source": [
    "# Предположим, что некоторый признак может принимать 10 разных значений. \n",
    "# В этом случае One Hot Encoding подразумевает создание 10 признаков, все из которых равны нулю за исключением одного. \n",
    "# На позицию, соответствующую численному значению признака мы помещаем 1.\n",
    "# Эта техника реализована в sklearn.preprocessing в классе OneHotEncoder. \n",
    "# По умолчанию OneHotEncoder преобразует данные в разреженную матрицу, \n",
    "# чтобы не расходовать память на хранение многочисленных нулей.\n",
    "\n",
    "# наш класс one-hot encoder'а для MNIST\n",
    "class OneHotEncoder:\n",
    "    def __init__(self):\n",
    "        # transform_mapping - матрица 10 на 10 пока из нулей\n",
    "        self.transform_mapping = np.zeros((10,10))\n",
    "        # делаем эту матрицу единичной\n",
    "        for i in range(self.transform_mapping.shape[0]):\n",
    "            self.transform_mapping[i][i] = 1.0\n",
    "            \n",
    "    def transform(self, y):\n",
    "        return self.transform_mapping[int(y)]"
   ]
  },
  {
   "cell_type": "code",
   "execution_count": 16,
   "metadata": {},
   "outputs": [
    {
     "data": {
      "text/plain": [
       "array([[1., 0., 0., 0., 0., 0., 0., 0., 0., 0.],\n",
       "       [0., 1., 0., 0., 0., 0., 0., 0., 0., 0.],\n",
       "       [0., 0., 1., 0., 0., 0., 0., 0., 0., 0.],\n",
       "       [0., 0., 0., 1., 0., 0., 0., 0., 0., 0.],\n",
       "       [0., 0., 0., 0., 1., 0., 0., 0., 0., 0.],\n",
       "       [0., 0., 0., 0., 0., 1., 0., 0., 0., 0.],\n",
       "       [0., 0., 0., 0., 0., 0., 1., 0., 0., 0.],\n",
       "       [0., 0., 0., 0., 0., 0., 0., 1., 0., 0.],\n",
       "       [0., 0., 0., 0., 0., 0., 0., 0., 1., 0.],\n",
       "       [0., 0., 0., 0., 0., 0., 0., 0., 0., 1.]])"
      ]
     },
     "execution_count": 16,
     "metadata": {},
     "output_type": "execute_result"
    }
   ],
   "source": [
    "cat = OneHotEncoder()\n",
    "cat.transform_mapping"
   ]
  },
  {
   "cell_type": "code",
   "execution_count": 17,
   "metadata": {},
   "outputs": [
    {
     "data": {
      "text/plain": [
       "array([0., 0., 0., 0., 0., 1., 0., 0., 0., 0.])"
      ]
     },
     "execution_count": 17,
     "metadata": {},
     "output_type": "execute_result"
    }
   ],
   "source": [
    "cat.transform(5)"
   ]
  },
  {
   "cell_type": "code",
   "execution_count": 18,
   "metadata": {},
   "outputs": [],
   "source": [
    "# внимание, тут Y_test в обычном формате (не onehot)\n",
    "def compute_acc(X_test, Y_test, net):\n",
    "    acc = 0.0\n",
    "    for i in range(X_test.shape[0]): # бежим по объектам тестовой выборки\n",
    "        y_h = net.forward(X_test[i]) # X_test[i] - признаки i-го объекта, на выходе - вектор вероятностей классов\n",
    "        y = np.argmax(y_h) # наше предсказание - класс с наибольшей вероятностью\n",
    "        if y == Y_test[i]:\n",
    "            acc += 1.0\n",
    "    # Y_test.shape[0] - количество объектов в тестовой выборке, если всё-всё правильно - acc будет 1\n",
    "    return acc / Y_test.shape[0]"
   ]
  },
  {
   "cell_type": "code",
   "execution_count": 19,
   "metadata": {},
   "outputs": [],
   "source": [
    "train_data = None\n",
    "test_data = None\n",
    "encoder = OneHotEncoder()\n",
    "with open('data_train.pickle','rb') as fin:\n",
    "    train_data = pickle.load(fin)\n",
    "with open('data_test_no_labels.pickle','rb') as fin:\n",
    "    test_data = pickle.load(fin)\n",
    "\n",
    "# Здесь пока неразбитые тестовая и обучающая выборка для нас\n",
    "X_train = train_data['data']\n",
    "Y_train = train_data['target']\n",
    "# Y_train это x в lambda, это цифра от 0 до 9; соответствующий вектор вероятности будет присваиваться каждому элементу\n",
    "Y_train_oh = np.array(list(map(lambda x : encoder.transform(x), Y_train)))\n",
    "\n",
    "# Тестовая выборка для соревнования\n",
    "X_test = test_data['data']"
   ]
  },
  {
   "cell_type": "code",
   "execution_count": 20,
   "metadata": {},
   "outputs": [
    {
     "data": {
      "text/plain": [
       "(7.0, array([0., 0., 0., 0., 0., 0., 0., 1., 0., 0.]))"
      ]
     },
     "execution_count": 20,
     "metadata": {},
     "output_type": "execute_result"
    }
   ],
   "source": [
    "Y_train[0], Y_train_oh[0]"
   ]
  },
  {
   "cell_type": "code",
   "execution_count": 21,
   "metadata": {},
   "outputs": [
    {
     "data": {
      "image/png": "[encoded data removed]",
      "text/plain": [
       "<Figure size 432x288 with 16 Axes>"
      ]
     },
     "metadata": {
      "needs_background": "light"
     },
     "output_type": "display_data"
    }
   ],
   "source": [
    "n=4\n",
    "for i in range(n*n):\n",
    "    plt.subplot(n,n,i+1)\n",
    "    I = train_data['data'][np.random.randint(0, X_train.shape[0]),:]\n",
    "    I = I.reshape((28, 28))\n",
    "    plt.imshow(I, cmap='gray')"
   ]
  },
  {
   "cell_type": "code",
   "execution_count": 22,
   "metadata": {},
   "outputs": [],
   "source": [
    "# такое разбиение данных будет ошибочным, так как нет стратификации по классам при разбиении\n",
    "# надо использовать sklearn.model_selection.train_test_split\n",
    "\n",
    "# стратификация по классам - это чтобы в обучающей и валидационной выборках \n",
    "# объекты разных классов были представлены в том же соотношении, как и в массивах до разбиения\n",
    "\n",
    "def divide_data(X, y):\n",
    "    np.random.seed(11)\n",
    "    msk = np.random.rand(X.shape[0]) < 0.9\n",
    "    y_train, X_train = y[msk], X[msk]\n",
    "    y_test, X_test = y[~msk], X[~msk]\n",
    "    \n",
    "    return X_train, y_train, X_test, y_test"
   ]
  },
  {
   "cell_type": "code",
   "execution_count": 23,
   "metadata": {},
   "outputs": [],
   "source": [
    "# предлагается признаки нормировать центрированием\n",
    "def data_preparation(X):\n",
    "    # каждая строчка - наш объект (10000x784), 784 признака у объекта\n",
    "    # axis=0 - по столбцам (не смешиваем разные признаки)\n",
    "    mean = np.mean(X, axis=0)\n",
    "    std = np.std(X, axis=0)\n",
    "    # +0.01 на случай очень маленького std\n",
    "    X = (X - mean) / (std+0.01)\n",
    "    plt.imshow(mean.reshape((28, 28)))\n",
    "    plt.figure()\n",
    "    \n",
    "    return X"
   ]
  },
  {
   "cell_type": "code",
   "execution_count": 25,
   "metadata": {},
   "outputs": [],
   "source": [
    "# X_all = np.concatenate((X_train, X_test), axis = 0)"
   ]
  },
  {
   "cell_type": "code",
   "execution_count": 15,
   "metadata": {
    "scrolled": true
   },
   "outputs": [
    {
     "data": {
      "image/png": "[encoded data removed]",
      "text/plain": [
       "<Figure size 432x288 with 1 Axes>"
      ]
     },
     "metadata": {
      "needs_background": "light"
     },
     "output_type": "display_data"
    },
    {
     "data": {
      "image/png": "[encoded data removed]",
      "text/plain": [
       "<Figure size 432x288 with 1 Axes>"
      ]
     },
     "metadata": {
      "needs_background": "light"
     },
     "output_type": "display_data"
    },
    {
     "data": {
      "text/plain": [
       "<Figure size 432x288 with 0 Axes>"
      ]
     },
     "metadata": {},
     "output_type": "display_data"
    }
   ],
   "source": [
    "# Здесь пока неразбитые тестовая и обучающая выборка для нас\n",
    "X_train = data_preparation(X_train)\n",
    "X_test = data_preparation(X_test) # ошибка: нормировака теста на его же статистике\n",
    "X_tr, y_tr, X_ts, y_ts = divide_data(X_train, Y_train_oh)"
   ]
  },
  {
   "cell_type": "code",
   "execution_count": 26,
   "metadata": {},
   "outputs": [],
   "source": [
    "class CrossEntropy:\n",
    "    \n",
    "    def forward(self, y_true, y_hat):\n",
    "        self.y_hat = y_hat\n",
    "        self.y_true = y_true\n",
    "        return -np.dot(y,np.log(y_hat))\n",
    "    \n",
    "    def backward(self, dz, lr=0.001):\n",
    "        return -1/self.y_hat*self.y_true"
   ]
  },
  {
   "cell_type": "code",
   "execution_count": 27,
   "metadata": {},
   "outputs": [],
   "source": [
    "class Softmax:\n",
    "    \n",
    "    def forward(self, x):\n",
    "        self.x = x\n",
    "        return np.exp(x) / np.sum( np.exp(x) )\n",
    "    \n",
    "    \"\"\"\n",
    "    def backward(self, dz):\n",
    "        dx = np.zeros(self.x.shape[0])\n",
    "        s = np.sum(np.exp(self.x))\n",
    "        for i in range(self.x.shape[0]):\n",
    "            dx[i] = dz[i]*np.exp(2*self.x[i])/s**2 + dz[i]*np.exp(self.x[i])/s*(1-np.exp(self.x[i])/s) - np.sum(dz*np.exp(self.x)*np.exp(self.x[i])/s**2) \n",
    "            \n",
    "        return dx\n",
    "    \"\"\"\n",
    "    \n",
    "    def backward(self, dz, lr=0.001):\n",
    "        sm = self.forward(self.x)\n",
    "        # матрица, по диагонале которой 1 - exp/sum, а остальные элементы -exp/sum\n",
    "        self.lp = (np.eye(sm.shape[0], sm.shape[0]) - sm).T\n",
    "        self.lp2 = sm * self.lp\n",
    "        return np.dot(dz, self.lp2)\n",
    "    \n",
    "    \"\"\"\n",
    "    # здесь неправильно считается производная softmax (ведь это не функция одного аргумента)\n",
    "    def backward(self, dz):\n",
    "        return dz * ( self.forward(self.x) * (1 - self.forward(self.x)) )\n",
    "    \"\"\""
   ]
  },
  {
   "cell_type": "code",
   "execution_count": 28,
   "metadata": {},
   "outputs": [],
   "source": [
    "class Dense: #in_size - размер входного вектора, out_size - размер выхода слоя\n",
    "    \n",
    "    def __init__(self, in_size, out_size, rlambda = 0.0):\n",
    "        # W - матрица весов\n",
    "        # w_io - вес на ребре, соединяющем i-ый нейрон слоя input с o-ым нейроном слоя output\n",
    "        # генерим с нулевым средним loc и единичной дисперсией scale\n",
    "        self.W = np.random.normal(loc = 0., scale=1., size=(out_size, in_size)) * np.sqrt(2 / in_size) #??? np.sqrt(2 / in_size)\n",
    "        # b - свободный член \n",
    "        # (хотя для простоты можно было бы засунуть b как ещё один нейрон in_size слоя с константным выходом 1)\n",
    "        self.b = np.zeros(out_size)\n",
    "        self.rlambda = rlambda\n",
    "        \n",
    "    def forward(self, x):\n",
    "        self.x = x # запоминаем для обратного прохода\n",
    "        return np.dot(self.W, x) + self.b\n",
    "    \n",
    "    def get_reg_loss(self): #??? зачем\n",
    "        # fro - Frobenius norm (корень из суммы квадратов элементов матрицы)\n",
    "        return 0.5 * self.rlambda * (np.linalg.norm(self.W, ord='fro') ** 2)\n",
    "    \n",
    "    def backward(self, dz, lr=0.001): # dz это dL/dz; lr - скорость обучения\n",
    "        \n",
    "        # вычисляем градиенты по параметрам (запоминаем их для отладки)\n",
    "        self.dW = np.outer(dz, self.x) #outer покомпонентное умножение\n",
    "        self.db = dz # когда в графе вычислений +, то значение для прохода обратно просто дублируется\n",
    "        \n",
    "        # вычисляем производную по входу (следующая эпсилон)\n",
    "        self.dx = np.matmul(dz, self.W)\n",
    "        \n",
    "        # рассчитываем градиенты от регуляризатора\n",
    "        if(self.rlambda != 0):\n",
    "            self.dW += self.rlambda * self.W\n",
    "        \n",
    "        # обновляем веса\n",
    "        self.W = self.W - lr * self.dW\n",
    "        self.b = self.b - lr * self.db\n",
    "        \n",
    "        # возвращаем dx для продолжения алгоритма\n",
    "        return self.dx # dz/dx чтобы обучать слои до текущего слоя dL/dx"
   ]
  },
  {
   "cell_type": "code",
   "execution_count": 29,
   "metadata": {},
   "outputs": [],
   "source": [
    "class ReLU:\n",
    "    \n",
    "    def forward(self, x):\n",
    "        self.x = x\n",
    "        return np.maximum(0, x)\n",
    "    \n",
    "    def backward(self, dz):\n",
    "        # self.x и dz имеют одинаковые размеры\n",
    "        # для каждого нейрона нужно вычислить dz * ReLU'(self.x), где ReLU' = 1, если аргумент >= 0 и 0 иначе\n",
    "        dz[self.x < 0] = 0        \n",
    "        return dz"
   ]
  },
  {
   "cell_type": "code",
   "execution_count": 30,
   "metadata": {},
   "outputs": [],
   "source": [
    "# Главная идея Dropout — вместо обучения одной DNN обучить ансамбль нескольких DNN, а затем усреднить полученные результаты,\n",
    "# предотвращает взаимоадаптацию нейронов на этапе обучения\n",
    "class Dropout:\n",
    "    def __init__(self, p = 0.5):\n",
    "        self.p = p\n",
    "        self.train = True\n",
    "    \n",
    "    def set_train(self, train = True):\n",
    "        self.train = train\n",
    "    \n",
    "    def forward(self, x):\n",
    "        \n",
    "        # если отключили dropout\n",
    "        if not self.train:\n",
    "            self.mask = np.ones(*x.shape)\n",
    "            return x\n",
    "        \n",
    "        # с вероятностью p преобразует элемент x в 0, с вероятностью 1-p удваивает элемент x #??? зачем удваивать\n",
    "        # https://habr.com/ru/company/wunderfund/blog/330814/\n",
    "        self.mask = ( np.random.rand(*x.shape) > self.p ) / (1.0 - self.p)\n",
    "        return x * self.mask\n",
    "        \n",
    "    def backward(self, dz, lr=0.001):\n",
    "        return dz * self.mask"
   ]
  },
  {
   "cell_type": "code",
   "execution_count": 31,
   "metadata": {},
   "outputs": [],
   "source": [
    "# Опеределение самой сети\n",
    "class MnistNet:\n",
    "    \n",
    "    def __init__(self, rlambda=0.0):\n",
    "        self.d1 = Dense(784, 256, rlambda)\n",
    "        self.m = ReLU()\n",
    "        self.d2 = Dense(256, 10, rlambda)\n",
    "        self.s = Softmax()\n",
    "    \n",
    "    def forward(self, x):\n",
    "        net = self.d1.forward(x)\n",
    "        net = self.m.forward(net)\n",
    "        net = self.d2.forward(net)\n",
    "        net = self.s.forward(net)\n",
    "        return net\n",
    "    \n",
    "    def backward(self, dz, lr):\n",
    "        dz = self.s.backward(dz)\n",
    "        dz = self.d2.backward(dz, lr)\n",
    "        dz = self.m.backward(dz)\n",
    "        dz = self.d1.backward(dz, lr)\n",
    "        return dz"
   ]
  },
  {
   "cell_type": "code",
   "execution_count": 18,
   "metadata": {},
   "outputs": [
    {
     "name": "stdout",
     "output_type": "stream",
     "text": [
      "0 iter loss. Train : 0.3278159464666696 . Test : 0.22007565707674234 . Accur : 0.9384321223709369\n",
      "1 iter loss. Train : 0.15718076760644867 . Test : 0.18653298242745314 . Accur : 0.9537284894837476\n",
      "2 iter loss. Train : 0.11140714633909424 . Test : 0.1500179770081022 . Accur : 0.9625239005736138\n",
      "3 iter loss. Train : 0.0841125091665339 . Test : 0.1374641782451584 . Accur : 0.9669216061185468\n",
      "4 iter loss. Train : 0.0659409910045508 . Test : 0.13971155084772713 . Accur : 0.9674952198852772\n",
      "5 iter loss. Train : 0.05219820889689291 . Test : 0.13503407796332112 . Accur : 0.9673040152963671\n",
      "6 iter loss. Train : 0.04597870239164313 . Test : 0.1289092501562192 . Accur : 0.9667304015296367\n",
      "7 iter loss. Train : 0.03462782278877723 . Test : 0.12882248832155127 . Accur : 0.9686424474187381\n",
      "8 iter loss. Train : 0.02932490906769196 . Test : 0.12386382860500049 . Accur : 0.9697896749521988\n",
      "9 iter loss. Train : 0.02419518719315002 . Test : 0.12701114015565543 . Accur : 0.9686424474187381\n",
      "10 iter loss. Train : 0.020221419648233485 . Test : 0.12737605228355195 . Accur : 0.9709369024856597\n",
      "11 iter loss. Train : 0.019437996227980852 . Test : 0.12453754715930955 . Accur : 0.9711281070745698\n",
      "12 iter loss. Train : 0.01645915993211896 . Test : 0.12780578906231885 . Accur : 0.97131931166348\n",
      "13 iter loss. Train : 0.015265425458317695 . Test : 0.1253522751133638 . Accur : 0.9711281070745698\n",
      "14 iter loss. Train : 0.011515313267405222 . Test : 0.12721129939546766 . Accur : 0.9707456978967495\n",
      "15 iter loss. Train : 0.012125007858999346 . Test : 0.1278780388806958 . Accur : 0.9718929254302103\n",
      "16 iter loss. Train : 0.010270116847695576 . Test : 0.12728591256943578 . Accur : 0.9722753346080306\n",
      "17 iter loss. Train : 0.01010490228549771 . Test : 0.1276157667491116 . Accur : 0.9709369024856597\n",
      "18 iter loss. Train : 0.008471461817438962 . Test : 0.12809762904440705 . Accur : 0.9720841300191204\n",
      "19 iter loss. Train : 0.007964258748381607 . Test : 0.13088797544530098 . Accur : 0.9724665391969407\n"
     ]
    }
   ],
   "source": [
    "# Здесь процедура обучения\n",
    "net = MnistNet()\n",
    "loss = CrossEntropy()\n",
    "lr = 0.001\n",
    "L_train = []\n",
    "L_test = []\n",
    "\n",
    "for iter in range(20):\n",
    "    L_acc = 0.\n",
    "    sh = list(range(X_tr.shape[0])) # больше рандома богу рандома\n",
    "    np.random.shuffle(sh) # modify a sequence in-place by shuffling its contents\n",
    "    \n",
    "    for i in range(X_tr.shape[0]):\n",
    "        x = X_tr[sh[i]]\n",
    "        y = y_tr[sh[i]]\n",
    "        y_h = net.forward(x)\n",
    "        L = loss.forward(y, y_h)\n",
    "        L_acc += L\n",
    "        dz = loss.backward(1, lr)\n",
    "        dz = net.backward(dz, lr)\n",
    "    L_acc /= y_tr.shape[0]\n",
    "    L_train.append(L_acc)\n",
    "    L_e_acc = 0.\n",
    "    for i in range(X_ts.shape[0]):\n",
    "        x = X_ts[i]\n",
    "        y = y_ts[i]\n",
    "        y_h = net.forward(x)\n",
    "        L = loss.forward(y, y_h)\n",
    "        L_e_acc += L\n",
    "    L_e_acc /= y_ts.shape[0]\n",
    "    L_test.append(L_e_acc)\n",
    "    e = compute_acc(X_ts, decode(y_ts), net)\n",
    "    print(\"{} iter loss. Train : {} . Test : {} . Accur : {}\".format(iter, L_acc, L_e_acc, e))"
   ]
  },
  {
   "cell_type": "code",
   "execution_count": 19,
   "metadata": {},
   "outputs": [
    {
     "data": {
      "text/plain": [
       "<matplotlib.legend.Legend at 0xb100aafb00>"
      ]
     },
     "execution_count": 19,
     "metadata": {},
     "output_type": "execute_result"
    },
    {
     "data": {
      "image/png": "[encoded data removed]",
      "text/plain": [
       "<Figure size 432x288 with 1 Axes>"
      ]
     },
     "metadata": {
      "needs_background": "light"
     },
     "output_type": "display_data"
    }
   ],
   "source": [
    "plt.plot(L_train, label='train')\n",
    "plt.plot(L_test, label='test')\n",
    "plt.legend()"
   ]
  },
  {
   "cell_type": "code",
   "execution_count": 14,
   "metadata": {},
   "outputs": [],
   "source": [
    "def decode(Y):\n",
    "    y = np.zeros(Y.shape[0])\n",
    "    for i in range(Y.shape[0]):\n",
    "        y[i] = np.argmax(Y[i])\n",
    "    return y"
   ]
  },
  {
   "cell_type": "code",
   "execution_count": 3,
   "metadata": {},
   "outputs": [],
   "source": [
    "def make_submission(X_test, net, fname=\"my_submission.csv\"):\n",
    "    with open(fname,'w') as fout:\n",
    "        fout.write('Id,Category')\n",
    "        for i in range(X_test.shape[0]):\n",
    "            y_h = net.forward(X_test[i]) # X_test[i] - признаки i-го объекта, на выходе - вектор вероятностей классов\n",
    "            y = np.argmax(y_h) # наше предсказание - класс с наибольшей вероятностью\n",
    "            fout.write(\"\\n{},{}\".format(i, int(y)))"
   ]
  },
  {
   "cell_type": "code",
   "execution_count": 20,
   "metadata": {},
   "outputs": [],
   "source": [
    "# формируем сабмишшен и заливаем его на kaggle\n",
    "make_submission(X_test, net)"
   ]
  },
  {
   "cell_type": "code",
   "execution_count": null,
   "metadata": {},
   "outputs": [],
   "source": [
    "\"\"\"\"\"\n",
    "# Опеределение самой сети\n",
    "class MnistNet:\n",
    "    \n",
    "    def __init__(self, rlambda=0.0):\n",
    "        self.d1 = Dense(784, 256, rlambda)\n",
    "        self.dr = Dropout()\n",
    "        self.m1 = ReLU()\n",
    "        self.d2 = Dense(256, 50, rlambda)\n",
    "        self.m2 = ReLU()\n",
    "        self.d3 = Dense(50, 10, rlambda)\n",
    "        self.s = Softmax()\n",
    "    \n",
    "    def forward_drop(self, x):\n",
    "        net = self.d1.forward(x)\n",
    "        net = self.dr.forward(net) #на train есть dropout, на test нет\n",
    "        net = self.m1.forward(net)\n",
    "        net = self.d2.forward(net)\n",
    "        net = self.m2.forward(net)\n",
    "        net = self.d3.forward(net)\n",
    "        net = self.s.forward(net)\n",
    "        return net\n",
    "    \n",
    "    def forward(self, x):\n",
    "        net = self.d1.forward(x)\n",
    "        net = self.m1.forward(net)\n",
    "        net = self.d2.forward(net)\n",
    "        net = self.m2.forward(net)\n",
    "        net = self.d3.forward(net)\n",
    "        net = self.s.forward(net)\n",
    "        return net\n",
    "    \n",
    "    def backward_drop(self, dz, lr):\n",
    "        dz = self.s.backward(dz, lr)\n",
    "        dz = self.d3.backward(dz, lr)\n",
    "        dz = self.m2.backward(dz, lr)\n",
    "        dz = self.d2.backward(dz, lr)\n",
    "        dz = self.m1.backward(dz, lr)\n",
    "        dz = self.dr.backward(dz, lr)\n",
    "        dz = self.d1.backward(dz, lr)\n",
    "        return dz\n",
    "    \n",
    "    def backward(self, dz, lr):\n",
    "        dz = self.s.backward(dz, lr)\n",
    "        dz = self.d3.backward(dz, lr)\n",
    "        dz = self.m2.backward(dz, lr)\n",
    "        dz = self.d2.backward(dz, lr)\n",
    "        dz = self.m1.backward(dz, lr)\n",
    "        dz = self.d1.backward(dz, lr)\n",
    "        return dz\n",
    "\"\"\"\"\""
   ]
  },
  {
   "cell_type": "code",
   "execution_count": null,
   "metadata": {},
   "outputs": [],
   "source": [
    "\"\"\"\"\"\n",
    "# Здесь процедура обучения\n",
    "net = MnistNet()\n",
    "loss = CrossEntropy()\n",
    "lr = 0.001\n",
    "L_train = []\n",
    "L_test = []\n",
    "e = []\n",
    "for iter in range(70):\n",
    "    L_acc = 0.\n",
    "    sh = list(range(X_tr.shape[0])) # больше рандома богу рандома\n",
    "    np.random.shuffle(sh)\n",
    "    for i in range(X_tr.shape[0]):\n",
    "        x = X_tr[sh[i]]\n",
    "        y = y_tr[sh[i]]\n",
    "        y_h = net.forward_drop(x)\n",
    "        L = loss.forward(y, y_h) #+ net.get_reg_loss()\n",
    "        L_acc += L \n",
    "        dz = loss.backward(1, lr)\n",
    "        dz = net.backward_drop(dz, lr)\n",
    "        \n",
    "    L_acc /= y_tr.shape[0]\n",
    "    L_train.append(L_acc)\n",
    "    L_e_acc = 0.\n",
    "    for i in range(X_ts.shape[0]):\n",
    "        x = X_ts[i]\n",
    "        y = y_ts[i]\n",
    "        y_h = net.forward(x)\n",
    "        L = loss.forward(y, y_h) #+ net.get_reg_loss()\n",
    "        L_e_acc += L\n",
    "    L_e_acc /= y_ts.shape[0]\n",
    "    L_test.append(L_e_acc)\n",
    "    e = compute_acc(X_ts, decode(y_ts), net)\n",
    "    print(\"{} iter loss. Train : {} . Test : {} . Accur : {}\".format(iter, L_acc, L_e_acc, e))\n",
    "\"\"\"\"\""
   ]
  }
 ],
 "metadata": {
  "kernelspec": {
   "display_name": "Python 3",
   "language": "python",
   "name": "python3"
  },
  "language_info": {
   "codemirror_mode": {
    "name": "ipython",
    "version": 3
   },
   "file_extension": ".py",
   "mimetype": "text/x-python",
   "name": "python",
   "nbconvert_exporter": "python",
   "pygments_lexer": "ipython3",
   "version": "3.7.5"
  }
 },
 "nbformat": 4,
 "nbformat_minor": 2
}
