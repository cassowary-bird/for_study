{
 "cells": [
  {
   "cell_type": "code",
   "execution_count": 13,
   "metadata": {},
   "outputs": [],
   "source": [
    "import numpy as np\n",
    "import matplotlib.pyplot as plt\n",
    "import pickle\n",
    "from sklearn.model_selection import train_test_split\n",
    "%matplotlib inline"
   ]
  },
  {
   "cell_type": "markdown",
   "metadata": {},
   "source": [
    " "
   ]
  },
  {
   "cell_type": "markdown",
   "metadata": {},
   "source": [
    "#### Методы для преобразования меток в нужный вид"
   ]
  },
  {
   "cell_type": "code",
   "execution_count": 2,
   "metadata": {},
   "outputs": [],
   "source": [
    "class OneHotEncoder:\n",
    "    # Предположим, что некоторый признак может принимать 10 разных значений. \n",
    "    # В этом случае One Hot Encoding подразумевает создание 10 признаков, все из которых равны нулю за исключением одного. \n",
    "    # На позицию, соответствующую численному значению признака мы помещаем 1.\n",
    "    # Эта техника реализована в sklearn.preprocessing в классе OneHotEncoder. \n",
    "    # По умолчанию OneHotEncoder преобразует данные в разреженную матрицу, \n",
    "    # чтобы не расходовать память на хранение многочисленных нулей.\n",
    "    \n",
    "    def __init__(self):\n",
    "        \n",
    "        # transform_mapping - матрица 10 на 10 пока из нулей\n",
    "        self.transform_mapping = np.zeros((10,10))\n",
    "        \n",
    "        # делаем эту матрицу единичной\n",
    "        for i in range(self.transform_mapping.shape[0]):\n",
    "            self.transform_mapping[i][i] = 1.0\n",
    "            \n",
    "    def transform(self, y):\n",
    "        return self.transform_mapping[int(y)]"
   ]
  },
  {
   "cell_type": "code",
   "execution_count": 27,
   "metadata": {},
   "outputs": [],
   "source": [
    "def decode(Y):\n",
    "    y = np.zeros(Y.shape[0])\n",
    "    for i in range(Y.shape[0]):\n",
    "        y[i] = np.argmax(Y[i])\n",
    "    return y"
   ]
  },
  {
   "cell_type": "code",
   "execution_count": 3,
   "metadata": {},
   "outputs": [
    {
     "data": {
      "text/plain": [
       "array([[1., 0., 0., 0., 0., 0., 0., 0., 0., 0.],\n",
       "       [0., 1., 0., 0., 0., 0., 0., 0., 0., 0.],\n",
       "       [0., 0., 1., 0., 0., 0., 0., 0., 0., 0.],\n",
       "       [0., 0., 0., 1., 0., 0., 0., 0., 0., 0.],\n",
       "       [0., 0., 0., 0., 1., 0., 0., 0., 0., 0.],\n",
       "       [0., 0., 0., 0., 0., 1., 0., 0., 0., 0.],\n",
       "       [0., 0., 0., 0., 0., 0., 1., 0., 0., 0.],\n",
       "       [0., 0., 0., 0., 0., 0., 0., 1., 0., 0.],\n",
       "       [0., 0., 0., 0., 0., 0., 0., 0., 1., 0.],\n",
       "       [0., 0., 0., 0., 0., 0., 0., 0., 0., 1.]])"
      ]
     },
     "execution_count": 3,
     "metadata": {},
     "output_type": "execute_result"
    }
   ],
   "source": [
    "cat = OneHotEncoder()\n",
    "cat.transform_mapping"
   ]
  },
  {
   "cell_type": "code",
   "execution_count": 4,
   "metadata": {},
   "outputs": [
    {
     "data": {
      "text/plain": [
       "array([0., 0., 0., 0., 0., 1., 0., 0., 0., 0.])"
      ]
     },
     "execution_count": 4,
     "metadata": {},
     "output_type": "execute_result"
    }
   ],
   "source": [
    "cat.transform(5) "
   ]
  },
  {
   "cell_type": "markdown",
   "metadata": {},
   "source": [
    " "
   ]
  },
  {
   "cell_type": "markdown",
   "metadata": {},
   "source": [
    "#### Загрузка данных для реализации обучения и для финального тестирования), кодирование меток"
   ]
  },
  {
   "cell_type": "code",
   "execution_count": 6,
   "metadata": {},
   "outputs": [],
   "source": [
    "train_data = None\n",
    "test_data = None\n",
    "encoder = OneHotEncoder()\n",
    "with open('data_train.pickle','rb') as fin:\n",
    "    train_data = pickle.load(fin)\n",
    "with open('data_test_no_labels.pickle','rb') as fin:\n",
    "    test_data = pickle.load(fin)\n",
    "\n",
    "# Здесь пока неразбитые тестовая и обучающая выборка для нас\n",
    "X_train = train_data['data']\n",
    "Y_train = train_data['target']\n",
    "# Y_train это x в lambda, это цифра от 0 до 9; соответствующий вектор вероятности будет присваиваться каждому элементу\n",
    "Y_train_oh = np.array(list(map(lambda x : encoder.transform(x), Y_train)))\n",
    "\n",
    "# Тестовая выборка для соревнования\n",
    "X_test = test_data['data']"
   ]
  },
  {
   "cell_type": "code",
   "execution_count": 7,
   "metadata": {},
   "outputs": [
    {
     "data": {
      "text/plain": [
       "(7.0, array([0., 0., 0., 0., 0., 0., 0., 1., 0., 0.]))"
      ]
     },
     "execution_count": 7,
     "metadata": {},
     "output_type": "execute_result"
    }
   ],
   "source": [
    "Y_train[0], Y_train_oh[0]"
   ]
  },
  {
   "cell_type": "code",
   "execution_count": 8,
   "metadata": {},
   "outputs": [
    {
     "data": {
      "image/png": "[encoded data removed]",
      "text/plain": [
       "<Figure size 432x288 with 16 Axes>"
      ]
     },
     "metadata": {
      "needs_background": "light"
     },
     "output_type": "display_data"
    }
   ],
   "source": [
    "n=4\n",
    "for i in range(n*n):\n",
    "    plt.subplot(n,n,i+1)\n",
    "    I = train_data['data'][np.random.randint(0, X_train.shape[0]),:]\n",
    "    I = I.reshape((28, 28))\n",
    "    plt.imshow(I, cmap='gray')"
   ]
  },
  {
   "cell_type": "markdown",
   "metadata": {},
   "source": [
    " "
   ]
  },
  {
   "cell_type": "markdown",
   "metadata": {},
   "source": [
    "#### Подготовка данных, разбиение данных для реализации обучения на train и test"
   ]
  },
  {
   "cell_type": "code",
   "execution_count": 17,
   "metadata": {},
   "outputs": [],
   "source": [
    "def data_preparation(X):\n",
    "    # центрирование и масштабирование признаков (чтобы среднее=0 и дисперсия=1 для каждого признака)\n",
    "    \n",
    "    # каждая строчка - наш объект (10000x784), 784 признака у объекта\n",
    "    # axis=0 - по столбцам (не смешиваем разные признаки)\n",
    "    mean = np.mean(X, axis=0)\n",
    "    std = np.std(X, axis=0)\n",
    "    \n",
    "    # +0.01 на случай очень маленького std\n",
    "    X = (X - mean) / (std+0.01)\n",
    "    plt.imshow(mean.reshape((28, 28)))\n",
    "    plt.figure()\n",
    "    \n",
    "    return X"
   ]
  },
  {
   "cell_type": "code",
   "execution_count": 22,
   "metadata": {},
   "outputs": [],
   "source": [
    "# разбиение данных, которое делается в этой ячейке, будет не идеальным, так как нет стратификации по классам при разбиении\n",
    "# надо использовать  sklearn.model_selection.train_test_split, нужна стратификация по классам;\n",
    "# стратификация по классам - это чтобы в обучающей и валидационной выборках \n",
    "# объекты разных классов были представлены в том же соотношении, как и в массивах до разбиения\n",
    "\n",
    "\"\"\"\"\n",
    "def divide_data(X, y):\n",
    "    # разбиение данных на тестовую и обучающую выборки\n",
    "    \n",
    "    np.random.seed(11)\n",
    "    msk = np.random.rand(X.shape[0]) < 0.9\n",
    "    y_train, X_train = y[msk], X[msk]\n",
    "    y_test, X_test = y[~msk], X[~msk]\n",
    "    \n",
    "    return X_train, y_train, X_test, y_test\n",
    "\"\"\"\""
   ]
  },
  {
   "cell_type": "code",
   "execution_count": 16,
   "metadata": {},
   "outputs": [],
   "source": [
    "def divide_data(X, y):\n",
    "    # разбиение на тестовую и обучающую выборку со стратификацией\n",
    "    \n",
    "    X_train, X_test, y_train, y_test = train_test_split(X, y, test_size=0.33, random_state=42)\n",
    "    return X_train, y_train, X_test, y_test"
   ]
  },
  {
   "cell_type": "code",
   "execution_count": 19,
   "metadata": {
    "scrolled": true
   },
   "outputs": [
    {
     "data": {
      "image/png": "[encoded data removed]",
      "text/plain": [
       "<Figure size 432x288 with 1 Axes>"
      ]
     },
     "metadata": {
      "needs_background": "light"
     },
     "output_type": "display_data"
    },
    {
     "data": {
      "image/png": "[encoded data removed]",
      "text/plain": [
       "<Figure size 432x288 with 1 Axes>"
      ]
     },
     "metadata": {
      "needs_background": "light"
     },
     "output_type": "display_data"
    },
    {
     "data": {
      "text/plain": [
       "<Figure size 432x288 with 0 Axes>"
      ]
     },
     "metadata": {},
     "output_type": "display_data"
    }
   ],
   "source": [
    "# Здесь пока неразбитые тестовая и обучающая выборка для нас\n",
    "X_train = data_preparation(train_data['data'])\n",
    "X_test = data_preparation(test_data['data'])\n",
    "\n",
    "# Разбиение\n",
    "X_tr, y_tr, X_ts, y_ts = divide_data(X_train, Y_train_oh)"
   ]
  },
  {
   "cell_type": "markdown",
   "metadata": {},
   "source": [
    " "
   ]
  },
  {
   "cell_type": "markdown",
   "metadata": {},
   "source": [
    "#### Реализация слоёв и самой сети"
   ]
  },
  {
   "cell_type": "code",
   "execution_count": 20,
   "metadata": {},
   "outputs": [],
   "source": [
    "class CrossEntropy:\n",
    "    \n",
    "    def forward(self, y_true, y_hat):\n",
    "        self.y_hat = y_hat\n",
    "        self.y_true = y_true\n",
    "        return -np.dot(y,np.log(y_hat))\n",
    "    \n",
    "    def backward(self, dz, lr=0.001):\n",
    "        return -1/self.y_hat*self.y_true"
   ]
  },
  {
   "cell_type": "code",
   "execution_count": 21,
   "metadata": {},
   "outputs": [],
   "source": [
    "class Softmax:\n",
    "    \n",
    "    def forward(self, x):\n",
    "        self.x = x\n",
    "        return np.exp(x) / np.sum( np.exp(x) )\n",
    "    \n",
    "    \"\"\"\n",
    "    def backward(self, dz):\n",
    "        dx = np.zeros(self.x.shape[0])\n",
    "        s = np.sum(np.exp(self.x))\n",
    "        for i in range(self.x.shape[0]):\n",
    "            dx[i] = dz[i]*np.exp(2*self.x[i])/s**2 + dz[i]*np.exp(self.x[i])/s*(1-np.exp(self.x[i])/s) - np.sum(dz*np.exp(self.x)*np.exp(self.x[i])/s**2) \n",
    "            \n",
    "        return dx\n",
    "    \"\"\"\n",
    "    \n",
    "    def backward(self, dz, lr=0.001):\n",
    "        sm = self.forward(self.x)\n",
    "        # матрица, по диагонале которой 1 - exp/sum, а остальные элементы -exp/sum\n",
    "        self.lp = (np.eye(sm.shape[0], sm.shape[0]) - sm).T\n",
    "        self.lp2 = sm * self.lp\n",
    "        return np.dot(dz, self.lp2)\n",
    "    \n",
    "    \"\"\"\n",
    "    # здесь неправильно считается производная softmax (ведь это не функция одного аргумента)\n",
    "    def backward(self, dz):\n",
    "        return dz * ( self.forward(self.x) * (1 - self.forward(self.x)) )\n",
    "    \"\"\""
   ]
  },
  {
   "cell_type": "code",
   "execution_count": 22,
   "metadata": {},
   "outputs": [],
   "source": [
    "class Dense: # in_size - размер входного вектора, out_size - размер выхода слоя\n",
    "    \n",
    "    def __init__(self, in_size, out_size, rlambda = 0.0):\n",
    "        # W - матрица весов\n",
    "        # w_io - вес на ребре, соединяющем i-ый нейрон слоя input с o-ым нейроном слоя output\n",
    "        # генерим с нулевым средним loc и единичной дисперсией scale\n",
    "        self.W = np.random.normal(loc = 0., scale=1., size=(out_size, in_size)) * np.sqrt(2 / in_size)\n",
    "        # b - свободный член \n",
    "        # (хотя для простоты можно было бы засунуть b как ещё один нейрон in_size слоя с константным выходом 1)\n",
    "        self.b = np.zeros(out_size)\n",
    "        self.rlambda = rlambda\n",
    "        \n",
    "    def forward(self, x):\n",
    "        self.x = x # запоминаем для обратного прохода\n",
    "        return np.dot(self.W, x) + self.b\n",
    "    \n",
    "    def get_reg_loss(self):\n",
    "        # fro - Frobenius norm (корень из суммы квадратов элементов матрицы)\n",
    "        return 0.5 * self.rlambda * (np.linalg.norm(self.W, ord='fro') ** 2)\n",
    "    \n",
    "    def backward(self, dz, lr=0.001): # dz это dL/dz; lr - скорость обучения\n",
    "        \n",
    "        # вычисляем градиенты по параметрам (запоминаем их для отладки)\n",
    "        self.dW = np.outer(dz, self.x) #outer покомпонентное умножение\n",
    "        self.db = dz # когда в графе вычислений +, то значение для прохода обратно просто дублируется\n",
    "        \n",
    "        # вычисляем производную по входу (следующая эпсилон)\n",
    "        self.dx = np.matmul(dz, self.W)\n",
    "        \n",
    "        # рассчитываем градиенты от регуляризатора\n",
    "        if(self.rlambda != 0):\n",
    "            self.dW += self.rlambda * self.W\n",
    "        \n",
    "        # обновляем веса\n",
    "        self.W = self.W - lr * self.dW\n",
    "        self.b = self.b - lr * self.db\n",
    "        \n",
    "        # возвращаем dx для продолжения алгоритма\n",
    "        return self.dx # dz/dx чтобы обучать слои до текущего слоя dL/dx"
   ]
  },
  {
   "cell_type": "code",
   "execution_count": 23,
   "metadata": {},
   "outputs": [],
   "source": [
    "class ReLU:\n",
    "    \n",
    "    def forward(self, x):\n",
    "        self.x = x\n",
    "        return np.maximum(0, x)\n",
    "    \n",
    "    def backward(self, dz):\n",
    "        # self.x и dz имеют одинаковые размеры\n",
    "        # для каждого нейрона нужно вычислить dz * ReLU'(self.x), где ReLU' = 1, если аргумент >= 0 и 0 иначе\n",
    "        dz[self.x < 0] = 0        \n",
    "        return dz"
   ]
  },
  {
   "cell_type": "code",
   "execution_count": 24,
   "metadata": {},
   "outputs": [],
   "source": [
    "# Главная идея Dropout — вместо обучения одной DNN обучить ансамбль нескольких DNN, а затем усреднить полученные результаты,\n",
    "# предотвращает взаимоадаптацию нейронов на этапе обучения\n",
    "class Dropout:\n",
    "    def __init__(self, p = 0.5):\n",
    "        self.p = p\n",
    "        self.train = True\n",
    "    \n",
    "    def set_train(self, train = True):\n",
    "        self.train = train\n",
    "    \n",
    "    def forward(self, x):\n",
    "        \n",
    "        # если отключили dropout\n",
    "        if not self.train:\n",
    "            self.mask = np.ones(*x.shape)\n",
    "            return x\n",
    "        \n",
    "        # с вероятностью p преобразует элемент x в 0, с вероятностью 1-p удваивает элемент x\n",
    "        # https://habr.com/ru/company/wunderfund/blog/330814/\n",
    "        self.mask = ( np.random.rand(*x.shape) > self.p ) / (1.0 - self.p)\n",
    "        return x * self.mask\n",
    "        \n",
    "    def backward(self, dz, lr=0.001):\n",
    "        return dz * self.mask"
   ]
  },
  {
   "cell_type": "code",
   "execution_count": 25,
   "metadata": {},
   "outputs": [],
   "source": [
    "# Опеределение самой сети\n",
    "class MnistNet:\n",
    "    \n",
    "    def __init__(self, rlambda=0.0):\n",
    "        self.d1 = Dense(784, 256, rlambda)\n",
    "        self.m = ReLU()\n",
    "        self.d2 = Dense(256, 10, rlambda)\n",
    "        self.s = Softmax()\n",
    "    \n",
    "    def forward(self, x):\n",
    "        net = self.d1.forward(x)\n",
    "        net = self.m.forward(net)\n",
    "        net = self.d2.forward(net)\n",
    "        net = self.s.forward(net)\n",
    "        return net\n",
    "    \n",
    "    def backward(self, dz, lr):\n",
    "        dz = self.s.backward(dz)\n",
    "        dz = self.d2.backward(dz, lr)\n",
    "        dz = self.m.backward(dz)\n",
    "        dz = self.d1.backward(dz, lr)\n",
    "        return dz"
   ]
  },
  {
   "cell_type": "markdown",
   "metadata": {},
   "source": [
    " "
   ]
  },
  {
   "cell_type": "markdown",
   "metadata": {},
   "source": [
    "#### Обучение и его результаты"
   ]
  },
  {
   "cell_type": "code",
   "execution_count": 5,
   "metadata": {},
   "outputs": [],
   "source": [
    "def compute_acc(X_test, Y_test, net):\n",
    "    # считает долю правильных предсказаний нашей модели на тестовой выборке\n",
    "    # внимание, тут Y_test в обычном формате (не onehot)\n",
    "    \n",
    "    acc = 0.0\n",
    "    for i in range(X_test.shape[0]): # бежим по объектам тестовой выборки\n",
    "        y_h = net.forward(X_test[i]) # X_test[i] - признаки i-го объекта, на выходе - вектор вероятностей классов\n",
    "        y = np.argmax(y_h) # наше предсказание - класс с наибольшей вероятностью\n",
    "        if y == Y_test[i]:\n",
    "            acc += 1.0\n",
    "    # Y_test.shape[0] - количество объектов в тестовой выборке, в идеале acc будет 1\n",
    "    return acc / Y_test.shape[0]"
   ]
  },
  {
   "cell_type": "code",
   "execution_count": 28,
   "metadata": {},
   "outputs": [],
   "source": [
    "from tqdm import tqdm"
   ]
  },
  {
   "cell_type": "code",
   "execution_count": 29,
   "metadata": {},
   "outputs": [
    {
     "name": "stderr",
     "output_type": "stream",
     "text": [
      "100%|███████████████████████████████████| 35175/35175 [02:03<00:00, 285.57it/s]\n",
      "  0%|                                      | 28/35175 [00:00<02:08, 274.33it/s]"
     ]
    },
    {
     "name": "stdout",
     "output_type": "stream",
     "text": [
      "0 iter loss. Train : 0.35398843062291246 . Test : 0.2650962364359336 . Accur : 0.9316594516594516\n"
     ]
    },
    {
     "name": "stderr",
     "output_type": "stream",
     "text": [
      "100%|███████████████████████████████████| 35175/35175 [02:05<00:00, 281.23it/s]\n",
      "  0%|                                      | 29/35175 [00:00<02:03, 284.12it/s]"
     ]
    },
    {
     "name": "stdout",
     "output_type": "stream",
     "text": [
      "1 iter loss. Train : 0.16658921115723846 . Test : 0.20698857281736865 . Accur : 0.9485137085137085\n"
     ]
    },
    {
     "name": "stderr",
     "output_type": "stream",
     "text": [
      "100%|███████████████████████████████████| 35175/35175 [02:00<00:00, 292.10it/s]\n",
      "  0%|                                      | 32/35175 [00:00<01:53, 310.47it/s]"
     ]
    },
    {
     "name": "stdout",
     "output_type": "stream",
     "text": [
      "2 iter loss. Train : 0.11879717605561686 . Test : 0.19048362348211267 . Accur : 0.9531313131313132\n"
     ]
    },
    {
     "name": "stderr",
     "output_type": "stream",
     "text": [
      "100%|███████████████████████████████████| 35175/35175 [01:56<00:00, 302.77it/s]\n",
      "  0%|                                      | 27/35175 [00:00<02:11, 267.14it/s]"
     ]
    },
    {
     "name": "stdout",
     "output_type": "stream",
     "text": [
      "3 iter loss. Train : 0.0897862192459678 . Test : 0.1713112410420157 . Accur : 0.9587301587301588\n"
     ]
    },
    {
     "name": "stderr",
     "output_type": "stream",
     "text": [
      "100%|███████████████████████████████████| 35175/35175 [01:59<00:00, 293.53it/s]\n",
      "  0%|                                      | 29/35175 [00:00<02:02, 286.94it/s]"
     ]
    },
    {
     "name": "stdout",
     "output_type": "stream",
     "text": [
      "4 iter loss. Train : 0.07160991438268838 . Test : 0.17370223281587932 . Accur : 0.961038961038961\n"
     ]
    },
    {
     "name": "stderr",
     "output_type": "stream",
     "text": [
      "100%|███████████████████████████████████| 35175/35175 [02:00<00:00, 292.14it/s]\n",
      "  0%|                                      | 28/35175 [00:00<02:08, 274.31it/s]"
     ]
    },
    {
     "name": "stdout",
     "output_type": "stream",
     "text": [
      "5 iter loss. Train : 0.058495894400052977 . Test : 0.16693522614530623 . Accur : 0.962020202020202\n"
     ]
    },
    {
     "name": "stderr",
     "output_type": "stream",
     "text": [
      "100%|███████████████████████████████████| 35175/35175 [01:59<00:00, 293.19it/s]\n",
      "  0%|                                      | 27/35175 [00:00<02:10, 269.82it/s]"
     ]
    },
    {
     "name": "stdout",
     "output_type": "stream",
     "text": [
      "6 iter loss. Train : 0.04711099593386926 . Test : 0.16559746100109773 . Accur : 0.9628282828282828\n"
     ]
    },
    {
     "name": "stderr",
     "output_type": "stream",
     "text": [
      "100%|███████████████████████████████████| 35175/35175 [02:03<00:00, 284.84it/s]\n",
      "  0%|                                      | 29/35175 [00:00<02:03, 284.12it/s]"
     ]
    },
    {
     "name": "stdout",
     "output_type": "stream",
     "text": [
      "7 iter loss. Train : 0.03844085766010387 . Test : 0.1640612185823515 . Accur : 0.9635209235209236\n"
     ]
    },
    {
     "name": "stderr",
     "output_type": "stream",
     "text": [
      "100%|███████████████████████████████████| 35175/35175 [01:59<00:00, 293.80it/s]\n",
      "  0%|                                      | 25/35175 [00:00<02:22, 247.36it/s]"
     ]
    },
    {
     "name": "stdout",
     "output_type": "stream",
     "text": [
      "8 iter loss. Train : 0.03164024765980448 . Test : 0.16538710716613655 . Accur : 0.9637518037518038\n"
     ]
    },
    {
     "name": "stderr",
     "output_type": "stream",
     "text": [
      "100%|███████████████████████████████████| 35175/35175 [01:59<00:00, 295.25it/s]\n",
      "  0%|                                      | 25/35175 [00:00<02:20, 249.83it/s]"
     ]
    },
    {
     "name": "stdout",
     "output_type": "stream",
     "text": [
      "9 iter loss. Train : 0.02668368062848594 . Test : 0.1613187950130137 . Accur : 0.965021645021645\n"
     ]
    },
    {
     "name": "stderr",
     "output_type": "stream",
     "text": [
      "100%|███████████████████████████████████| 35175/35175 [02:00<00:00, 292.81it/s]\n",
      "  0%|                                      | 25/35175 [00:00<02:22, 247.36it/s]"
     ]
    },
    {
     "name": "stdout",
     "output_type": "stream",
     "text": [
      "10 iter loss. Train : 0.02203940480839719 . Test : 0.16177078648044257 . Accur : 0.9654256854256854\n"
     ]
    },
    {
     "name": "stderr",
     "output_type": "stream",
     "text": [
      "100%|███████████████████████████████████| 35175/35175 [02:03<00:00, 283.75it/s]\n",
      "  0%|                                      | 25/35175 [00:00<02:22, 247.36it/s]"
     ]
    },
    {
     "name": "stdout",
     "output_type": "stream",
     "text": [
      "11 iter loss. Train : 0.01841820949750308 . Test : 0.16260908249851028 . Accur : 0.9646176046176046\n"
     ]
    },
    {
     "name": "stderr",
     "output_type": "stream",
     "text": [
      "100%|███████████████████████████████████| 35175/35175 [01:59<00:00, 294.75it/s]\n",
      "  0%|                                      | 25/35175 [00:00<02:20, 249.83it/s]"
     ]
    },
    {
     "name": "stdout",
     "output_type": "stream",
     "text": [
      "12 iter loss. Train : 0.01599009345933886 . Test : 0.16330516397153905 . Accur : 0.9654834054834055\n"
     ]
    },
    {
     "name": "stderr",
     "output_type": "stream",
     "text": [
      "100%|███████████████████████████████████| 35175/35175 [01:59<00:00, 294.06it/s]\n",
      "  0%|                                      | 25/35175 [00:00<02:22, 247.36it/s]"
     ]
    },
    {
     "name": "stdout",
     "output_type": "stream",
     "text": [
      "13 iter loss. Train : 0.014328473025749265 . Test : 0.1630239770400595 . Accur : 0.9654834054834055\n"
     ]
    },
    {
     "name": "stderr",
     "output_type": "stream",
     "text": [
      "100%|███████████████████████████████████| 35175/35175 [02:01<00:00, 290.63it/s]\n",
      "  0%|                                      | 25/35175 [00:00<02:22, 247.36it/s]"
     ]
    },
    {
     "name": "stdout",
     "output_type": "stream",
     "text": [
      "14 iter loss. Train : 0.012493489032108365 . Test : 0.16422092173354746 . Accur : 0.9655988455988456\n"
     ]
    },
    {
     "name": "stderr",
     "output_type": "stream",
     "text": [
      "100%|███████████████████████████████████| 35175/35175 [02:02<00:00, 286.58it/s]\n",
      "  0%|                                      | 22/35175 [00:00<02:43, 215.54it/s]"
     ]
    },
    {
     "name": "stdout",
     "output_type": "stream",
     "text": [
      "15 iter loss. Train : 0.0109027529467903 . Test : 0.16435183736310133 . Accur : 0.9666955266955267\n"
     ]
    },
    {
     "name": "stderr",
     "output_type": "stream",
     "text": [
      "100%|███████████████████████████████████| 35175/35175 [01:58<00:00, 295.91it/s]\n",
      "  0%|                                      | 25/35175 [00:00<02:20, 249.84it/s]"
     ]
    },
    {
     "name": "stdout",
     "output_type": "stream",
     "text": [
      "16 iter loss. Train : 0.009707190485603968 . Test : 0.1664130481500359 . Accur : 0.9664646464646465\n"
     ]
    },
    {
     "name": "stderr",
     "output_type": "stream",
     "text": [
      "100%|███████████████████████████████████| 35175/35175 [01:58<00:00, 295.77it/s]\n",
      "  0%|                                      | 25/35175 [00:00<02:23, 244.93it/s]"
     ]
    },
    {
     "name": "stdout",
     "output_type": "stream",
     "text": [
      "17 iter loss. Train : 0.00873280016894636 . Test : 0.16679521996656443 . Accur : 0.9662914862914863\n"
     ]
    },
    {
     "name": "stderr",
     "output_type": "stream",
     "text": [
      "100%|███████████████████████████████████| 35175/35175 [01:59<00:00, 295.53it/s]\n",
      "  0%|                                      | 25/35175 [00:00<02:20, 249.83it/s]"
     ]
    },
    {
     "name": "stdout",
     "output_type": "stream",
     "text": [
      "18 iter loss. Train : 0.007975713956702686 . Test : 0.16749222282412038 . Accur : 0.9664646464646465\n"
     ]
    },
    {
     "name": "stderr",
     "output_type": "stream",
     "text": [
      "100%|███████████████████████████████████| 35175/35175 [02:00<00:00, 293.02it/s]\n"
     ]
    },
    {
     "name": "stdout",
     "output_type": "stream",
     "text": [
      "19 iter loss. Train : 0.0072445425957322765 . Test : 0.16818544182131023 . Accur : 0.9668686868686869\n"
     ]
    }
   ],
   "source": [
    "# Здесь процедура обучения\n",
    "net = MnistNet()\n",
    "loss = CrossEntropy()\n",
    "lr = 0.001\n",
    "L_train = []\n",
    "L_test = []\n",
    "\n",
    "for iter in range(20):\n",
    "    L_acc = 0.\n",
    "    sh = list(range(X_tr.shape[0])) # больше рандома богу рандома\n",
    "    np.random.shuffle(sh) # modify a sequence in-place by shuffling its contents\n",
    "    \n",
    "    for i in tqdm(range(X_tr.shape[0])):\n",
    "        x = X_tr[sh[i]]\n",
    "        y = y_tr[sh[i]]\n",
    "        y_h = net.forward(x)\n",
    "        L = loss.forward(y, y_h)\n",
    "        L_acc += L\n",
    "        dz = loss.backward(1, lr)\n",
    "        dz = net.backward(dz, lr)\n",
    "    L_acc /= y_tr.shape[0]\n",
    "    L_train.append(L_acc)\n",
    "    L_e_acc = 0.\n",
    "    for i in range(X_ts.shape[0]):\n",
    "        x = X_ts[i]\n",
    "        y = y_ts[i]\n",
    "        y_h = net.forward(x)\n",
    "        L = loss.forward(y, y_h)\n",
    "        L_e_acc += L\n",
    "    L_e_acc /= y_ts.shape[0]\n",
    "    L_test.append(L_e_acc)\n",
    "    e = compute_acc(X_ts, decode(y_ts), net)\n",
    "    print(\"{} iter loss. Train : {} . Test : {} . Accur : {}\".format(iter, L_acc, L_e_acc, e))"
   ]
  },
  {
   "cell_type": "code",
   "execution_count": 19,
   "metadata": {},
   "outputs": [
    {
     "data": {
      "text/plain": [
       "<matplotlib.legend.Legend at 0xb100aafb00>"
      ]
     },
     "execution_count": 19,
     "metadata": {},
     "output_type": "execute_result"
    },
    {
     "data": {
      "image/png": "[encoded data removed]",
      "text/plain": [
       "<Figure size 432x288 with 1 Axes>"
      ]
     },
     "metadata": {
      "needs_background": "light"
     },
     "output_type": "display_data"
    }
   ],
   "source": [
    "plt.plot(L_train, label='train')\n",
    "plt.plot(L_test, label='test')\n",
    "plt.legend()"
   ]
  }
 ],
 "metadata": {
  "kernelspec": {
   "display_name": "Python 3",
   "language": "python",
   "name": "python3"
  },
  "language_info": {
   "codemirror_mode": {
    "name": "ipython",
    "version": 3
   },
   "file_extension": ".py",
   "mimetype": "text/x-python",
   "name": "python",
   "nbconvert_exporter": "python",
   "pygments_lexer": "ipython3",
   "version": "3.7.5"
  }
 },
 "nbformat": 4,
 "nbformat_minor": 2
}
