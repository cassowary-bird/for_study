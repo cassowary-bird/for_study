{
 "cells": [
  {
   "cell_type": "code",
   "execution_count": 2,
   "metadata": {},
   "outputs": [],
   "source": [
    "import pickle\n",
    "import numpy as np\n",
    "import PIL.Image\n",
    "import itertools\n",
    "from IPython.core.display import Image, display\n",
    "import scipy.ndimage\n",
    "import random\n",
    "import matplotlib.pylab as plt\n",
    "import tqdm\n",
    "import math\n",
    "%matplotlib inline"
   ]
  },
  {
   "cell_type": "markdown",
   "metadata": {},
   "source": [
    " "
   ]
  },
  {
   "cell_type": "markdown",
   "metadata": {},
   "source": [
    "#### Подготовка данных"
   ]
  },
  {
   "cell_type": "code",
   "execution_count": 3,
   "metadata": {},
   "outputs": [],
   "source": [
    "with open('data_train.pickle', 'rb') as f:\n",
    "    train = pickle.load(f)\n",
    "\n",
    "with open('data_test_no_labels.pickle', 'rb') as f:\n",
    "    test_no_lables = pickle.load(f)"
   ]
  },
  {
   "cell_type": "code",
   "execution_count": 3,
   "metadata": {},
   "outputs": [
    {
     "data": {
      "image/png": "[encoded data removed]",
      "text/plain": [
       "<Figure size 432x288 with 1 Axes>"
      ]
     },
     "metadata": {
      "needs_background": "light"
     },
     "output_type": "display_data"
    }
   ],
   "source": [
    "plt.imshow(train['data'][0].reshape(28,28))\n",
    "plt.show()"
   ]
  },
  {
   "cell_type": "code",
   "execution_count": 4,
   "metadata": {},
   "outputs": [],
   "source": [
    "#нормировка данных\n",
    "def data_preparation(X):\n",
    "    #каждая строчка - наш объект (10000x784), 784 признака у объекта\n",
    "    mean = np.mean(X, axis=0)\n",
    "    std = np.std(X, axis=0)\n",
    "    X = (X - mean) / (std+0.000001)\n",
    "    \n",
    "    #в матрицу X необходимо ввести столбец, весь состоящий из единиц (чтобы было слагаемое w0 (свободный член))\n",
    "    X = np.hstack([ np.ones((X.shape[0], 1)), X])\n",
    "    return X"
   ]
  },
  {
   "cell_type": "code",
   "execution_count": 5,
   "metadata": {},
   "outputs": [],
   "source": [
    "#перевод ответов в вероятности\n",
    "def labels_preparation(labels):\n",
    "    #каждый элемент - целевая переменная (5 или 6) (1x10000)\n",
    "    labels[labels==6] = 1\n",
    "    labels[labels==5] = -1\n",
    "    return labels"
   ]
  },
  {
   "cell_type": "code",
   "execution_count": 6,
   "metadata": {},
   "outputs": [],
   "source": [
    "#разбиваем на тестовую и обучающую выборки\n",
    "def divide_data(X, y):\n",
    "    np.random.seed(11)\n",
    "    msk = np.random.rand(X.shape[0]) < 0.8\n",
    "    y_train, X_train = y[msk], X[msk]\n",
    "    y_test, X_test = y[~msk], X[~msk]\n",
    "    \n",
    "    return X_train, y_train, X_test, y_test"
   ]
  },
  {
   "cell_type": "markdown",
   "metadata": {},
   "source": [
    " "
   ]
  },
  {
   "cell_type": "markdown",
   "metadata": {},
   "source": [
    "#### Методы для обучения, его результаты"
   ]
  },
  {
   "cell_type": "code",
   "execution_count": 7,
   "metadata": {},
   "outputs": [],
   "source": [
    "def w_initial1(X):\n",
    "    np.random.seed(12)\n",
    "    w = np.random.normal(scale=0.0001, size = X.shape[1])\n",
    "    return w"
   ]
  },
  {
   "cell_type": "code",
   "execution_count": 8,
   "metadata": {},
   "outputs": [],
   "source": [
    "def w_initial2(X):\n",
    "    np.random.seed(13)\n",
    "    w = np.random.uniform(-1/X.shape[0], 1/X.shape[0], size = X.shape[1])\n",
    "    return w"
   ]
  },
  {
   "cell_type": "code",
   "execution_count": 9,
   "metadata": {},
   "outputs": [],
   "source": [
    "def propability(w, X):\n",
    "    p = 1.0 / ( 1.0 + np.exp(-np.dot(w, X.T)))\n",
    "    return p"
   ]
  },
  {
   "cell_type": "code",
   "execution_count": 10,
   "metadata": {},
   "outputs": [],
   "source": [
    "def logloss(X, w, y):\n",
    "    y_ = np.dot(w, X.T)\n",
    "    return 1.0 / y.shape[0] * np.sum( np.log(1 + np.exp(-y * y_)) ) "
   ]
  },
  {
   "cell_type": "code",
   "execution_count": 11,
   "metadata": {},
   "outputs": [],
   "source": [
    "def accuracy(X, w, y):\n",
    "    p = propability(w, X)\n",
    "    \n",
    "    p[p > 0.5] = 1\n",
    "    p[p <= 0.5] = -1\n",
    "    e = np.sum(abs(p - y))/2\n",
    "    return (p.shape[0] - e) * 1.0 / p.shape[0]"
   ]
  },
  {
   "cell_type": "code",
   "execution_count": 12,
   "metadata": {},
   "outputs": [],
   "source": [
    "#стохастический градиентный спуск\n",
    "def grad_down_loss(X_train, y_train, X_test, y_test, w, iterat = 300, etha = 0.0002, lmbd = 0):\n",
    "    \n",
    "    train_eval = np.zeros((2, iterat))\n",
    "    test_eval = np.zeros((2, iterat))\n",
    "    \n",
    "    for iter in tqdm.tqdm_notebook(range(iterat)):\n",
    "        \"\"\"\n",
    "        sh_ind = np.arange(X_train.shape[0])\n",
    "        np.random.permutation(sh_ind)\n",
    "        X_train = X_train[sh_ind]\n",
    "        y_train = y_train[sh_ind]\n",
    "        \"\"\"\n",
    "        for i in range(X_train.shape[0]):\n",
    "            j = np.random.randint(0, X_train.shape[0])\n",
    "            # вычисляем по формуле для линейного классификатора с сигмоидой\n",
    "            grad = - y_train[j] * X_train[j] / ( 1 + math.exp( y_train[j] * np.dot(w.T, X_train[j])) ) + lmbd * w\n",
    "            w = w - etha * grad\n",
    "\n",
    "        train_eval[0][iter] = logloss(X_train, w, y_train)\n",
    "        test_eval[0][iter] = logloss(X_test, w, y_test)\n",
    "            \n",
    "        train_eval[1][iter] = accuracy(X_train, w, y_train)\n",
    "        test_eval[1][iter] = accuracy(X_test, w, y_test)\n",
    "    \n",
    "        print(\"{} iter loss. Train : {} . Test : {}\".format(iter, train_eval[0][iter], test_eval[0][iter]))\n",
    "\n",
    "    return w, train_eval, test_eval"
   ]
  },
  {
   "cell_type": "code",
   "execution_count": 13,
   "metadata": {},
   "outputs": [
    {
     "data": {
      "application/vnd.jupyter.widget-view+json": {
       "model_id": "324966a2393c472db8b5389f311955fe",
       "version_major": 2,
       "version_minor": 0
      },
      "text/plain": [
       "HBox(children=(IntProgress(value=0, max=300), HTML(value='')))"
      ]
     },
     "metadata": {},
     "output_type": "display_data"
    },
    {
     "name": "stdout",
     "output_type": "stream",
     "text": [
      "0 iter loss. Train : 0.09457883776609781 . Test : 0.09858687706579204\n",
      "1 iter loss. Train : 0.0769912680351603 . Test : 0.08212118140995141\n",
      "2 iter loss. Train : 0.06863002211372712 . Test : 0.07623044428014637\n",
      "3 iter loss. Train : 0.06438618598034201 . Test : 0.07265560160321821\n",
      "4 iter loss. Train : 0.0612850639236703 . Test : 0.07079620167621717\n",
      "5 iter loss. Train : 0.058606254201404605 . Test : 0.06920916826814197\n",
      "6 iter loss. Train : 0.05660515490757321 . Test : 0.0676683716532686\n",
      "7 iter loss. Train : 0.054966679125639566 . Test : 0.06742675900665063\n",
      "8 iter loss. Train : 0.053619562789620046 . Test : 0.06598672387123102\n",
      "9 iter loss. Train : 0.052425181963742774 . Test : 0.06531871290948593\n",
      "10 iter loss. Train : 0.05122275807922316 . Test : 0.06460781987050762\n",
      "11 iter loss. Train : 0.050428723514925194 . Test : 0.06399677517409326\n",
      "12 iter loss. Train : 0.04932783440353548 . Test : 0.06375073805009379\n",
      "13 iter loss. Train : 0.048564270977086446 . Test : 0.0639708500174884\n",
      "14 iter loss. Train : 0.047868172084137496 . Test : 0.0633986250375802\n",
      "15 iter loss. Train : 0.04718860242955369 . Test : 0.0632541102023936\n",
      "16 iter loss. Train : 0.04660654336074143 . Test : 0.06289037680928071\n",
      "17 iter loss. Train : 0.04607315664764668 . Test : 0.06254682601819539\n",
      "18 iter loss. Train : 0.04566305944953047 . Test : 0.06295374288119307\n",
      "19 iter loss. Train : 0.045105388627021965 . Test : 0.06288465557144253\n",
      "20 iter loss. Train : 0.04479401841829875 . Test : 0.062486211585417305\n",
      "21 iter loss. Train : 0.044404802756359954 . Test : 0.062002359913054104\n",
      "22 iter loss. Train : 0.04392033597703605 . Test : 0.06186130192521714\n",
      "23 iter loss. Train : 0.043580109212096416 . Test : 0.061932992841427004\n",
      "24 iter loss. Train : 0.04305024466312559 . Test : 0.06144724527793776\n",
      "25 iter loss. Train : 0.0427471012623561 . Test : 0.061866749540681686\n",
      "26 iter loss. Train : 0.04257112986246631 . Test : 0.06254081080206199\n",
      "27 iter loss. Train : 0.04205518222371508 . Test : 0.06169440096319431\n",
      "28 iter loss. Train : 0.041721908314274525 . Test : 0.061268440317644314\n",
      "29 iter loss. Train : 0.041462233396868935 . Test : 0.061085217531889335\n",
      "30 iter loss. Train : 0.04125279985410941 . Test : 0.060580671898701095\n",
      "31 iter loss. Train : 0.04087855444717251 . Test : 0.0610076012064102\n",
      "32 iter loss. Train : 0.04064592695021737 . Test : 0.06108730530025946\n",
      "33 iter loss. Train : 0.04042078805774607 . Test : 0.06074990452623192\n",
      "34 iter loss. Train : 0.04017466319012552 . Test : 0.060711246362530946\n",
      "35 iter loss. Train : 0.04003001087687866 . Test : 0.06094075710978915\n",
      "36 iter loss. Train : 0.03972106572219618 . Test : 0.0605622668346273\n",
      "37 iter loss. Train : 0.03952353447611305 . Test : 0.061243111140419526\n",
      "38 iter loss. Train : 0.039287607727998074 . Test : 0.06092811588925914\n",
      "39 iter loss. Train : 0.039165295688280394 . Test : 0.061277158581015186\n",
      "40 iter loss. Train : 0.03898466845244697 . Test : 0.0613963402516761\n",
      "41 iter loss. Train : 0.038760457630697256 . Test : 0.06172069102704961\n",
      "42 iter loss. Train : 0.038556319198283576 . Test : 0.0609532581962414\n",
      "43 iter loss. Train : 0.03835762876136253 . Test : 0.06086137162263087\n",
      "44 iter loss. Train : 0.03825762413362004 . Test : 0.06062738870164122\n",
      "45 iter loss. Train : 0.03795815229794548 . Test : 0.060712009277742465\n",
      "46 iter loss. Train : 0.037813035521642564 . Test : 0.06074443500095316\n",
      "47 iter loss. Train : 0.03761295605936829 . Test : 0.06136735657677804\n",
      "48 iter loss. Train : 0.037494951238605044 . Test : 0.06128085556874558\n",
      "49 iter loss. Train : 0.03732842166328101 . Test : 0.061146964487788995\n",
      "50 iter loss. Train : 0.03719093500623725 . Test : 0.061009175077783244\n",
      "51 iter loss. Train : 0.037026537810506084 . Test : 0.06157473955921694\n",
      "52 iter loss. Train : 0.03686671378588339 . Test : 0.06107393998116483\n",
      "53 iter loss. Train : 0.03670430598099395 . Test : 0.06065675028715849\n",
      "54 iter loss. Train : 0.036643401855774166 . Test : 0.061208617810705176\n",
      "55 iter loss. Train : 0.0364285529835321 . Test : 0.060961976655014606\n",
      "56 iter loss. Train : 0.03625436747917289 . Test : 0.06090610507766056\n",
      "57 iter loss. Train : 0.0361367127962462 . Test : 0.06079852103400495\n",
      "58 iter loss. Train : 0.036035939368196226 . Test : 0.06071981843120915\n",
      "59 iter loss. Train : 0.035834419232083144 . Test : 0.06101654027859605\n",
      "60 iter loss. Train : 0.03575478901137491 . Test : 0.06090423862711651\n",
      "61 iter loss. Train : 0.03561615502172907 . Test : 0.06081716352871859\n",
      "62 iter loss. Train : 0.03550985217845755 . Test : 0.06070470527546296\n",
      "63 iter loss. Train : 0.035354627267817997 . Test : 0.06054495625901002\n",
      "64 iter loss. Train : 0.035245659097228856 . Test : 0.060690593106005074\n",
      "65 iter loss. Train : 0.035130318752807664 . Test : 0.061138938245711205\n",
      "66 iter loss. Train : 0.035079387850632464 . Test : 0.06106053943184284\n",
      "67 iter loss. Train : 0.03488961843604348 . Test : 0.06091750471510469\n",
      "68 iter loss. Train : 0.03481729080282172 . Test : 0.06107953886881027\n",
      "69 iter loss. Train : 0.03465990551895822 . Test : 0.06129429503576517\n",
      "70 iter loss. Train : 0.034768626304018654 . Test : 0.06188887891324702\n",
      "71 iter loss. Train : 0.034504105438999955 . Test : 0.06132992284414651\n",
      "72 iter loss. Train : 0.034440976038839506 . Test : 0.061054447983952445\n",
      "73 iter loss. Train : 0.034298755766601324 . Test : 0.06168566777668149\n",
      "74 iter loss. Train : 0.03426710604417893 . Test : 0.06184181658680778\n",
      "75 iter loss. Train : 0.03409384097405434 . Test : 0.061466537221080635\n",
      "76 iter loss. Train : 0.033990031290814536 . Test : 0.06076287334843863\n",
      "77 iter loss. Train : 0.03391695528049673 . Test : 0.060941358450222825\n",
      "78 iter loss. Train : 0.03385732933548549 . Test : 0.06026510129694771\n",
      "79 iter loss. Train : 0.03372677369795666 . Test : 0.060651907549743256\n",
      "80 iter loss. Train : 0.03362933312186286 . Test : 0.060487802848426975\n",
      "81 iter loss. Train : 0.03360472673919665 . Test : 0.06072313560170664\n",
      "82 iter loss. Train : 0.033526894002958926 . Test : 0.06081960989523257\n",
      "83 iter loss. Train : 0.03342464319894591 . Test : 0.0612485418762452\n",
      "84 iter loss. Train : 0.03335231697299801 . Test : 0.061596032648687286\n",
      "85 iter loss. Train : 0.033213619874286365 . Test : 0.06128083963229314\n",
      "86 iter loss. Train : 0.03307903977844673 . Test : 0.061124142314593344\n",
      "87 iter loss. Train : 0.033155696488134455 . Test : 0.06129938307628492\n",
      "88 iter loss. Train : 0.032991416961986986 . Test : 0.060825339784001585\n",
      "89 iter loss. Train : 0.03282656643438374 . Test : 0.060832025403566546\n",
      "90 iter loss. Train : 0.03275232304735344 . Test : 0.0611008729455454\n",
      "91 iter loss. Train : 0.032776342186813426 . Test : 0.06070176446833882\n",
      "92 iter loss. Train : 0.032632635897205456 . Test : 0.060594983462486374\n",
      "93 iter loss. Train : 0.03257212247674787 . Test : 0.06034635199203922\n",
      "94 iter loss. Train : 0.032503609378722154 . Test : 0.060878544131715534\n",
      "95 iter loss. Train : 0.03246919399599075 . Test : 0.060300008141286665\n",
      "96 iter loss. Train : 0.03230901270289308 . Test : 0.06104541227958637\n",
      "97 iter loss. Train : 0.03223692478317085 . Test : 0.06047935107853587\n",
      "98 iter loss. Train : 0.032149867479809295 . Test : 0.06086259873492715\n",
      "99 iter loss. Train : 0.03206681531178495 . Test : 0.06172710429240252\n",
      "100 iter loss. Train : 0.03197953040856453 . Test : 0.06169820286161394\n",
      "101 iter loss. Train : 0.03187000515212018 . Test : 0.0610546501704686\n",
      "102 iter loss. Train : 0.03180712011815131 . Test : 0.061490453117430746\n",
      "103 iter loss. Train : 0.03174444402798163 . Test : 0.06155260347461809\n",
      "104 iter loss. Train : 0.03172023218184412 . Test : 0.06177462823357477\n",
      "105 iter loss. Train : 0.03159346939301798 . Test : 0.06181427823699068\n",
      "106 iter loss. Train : 0.031578957003287174 . Test : 0.061978544940926195\n",
      "107 iter loss. Train : 0.031478720307332085 . Test : 0.062026938978944415\n",
      "108 iter loss. Train : 0.0313846430288347 . Test : 0.06160950394329242\n",
      "109 iter loss. Train : 0.03135900262685613 . Test : 0.06156526223708661\n",
      "110 iter loss. Train : 0.03129151090170163 . Test : 0.061401869110517426\n",
      "111 iter loss. Train : 0.03119483588701187 . Test : 0.0615270221401261\n",
      "112 iter loss. Train : 0.03111665098757461 . Test : 0.061960170536532605\n",
      "113 iter loss. Train : 0.031095195757345546 . Test : 0.0614533926848517\n",
      "114 iter loss. Train : 0.031036524039276894 . Test : 0.061787661174565675\n",
      "115 iter loss. Train : 0.030971583442498563 . Test : 0.06215544186730228\n",
      "116 iter loss. Train : 0.030955475507548572 . Test : 0.06201059609363789\n",
      "117 iter loss. Train : 0.03091217903563927 . Test : 0.061893896826958575\n",
      "118 iter loss. Train : 0.03085914473951079 . Test : 0.06167009713110197\n",
      "119 iter loss. Train : 0.030712921641442226 . Test : 0.061804795431752574\n",
      "120 iter loss. Train : 0.030682895755150225 . Test : 0.06232010915668602\n",
      "121 iter loss. Train : 0.03062722145640924 . Test : 0.06210205234632857\n",
      "122 iter loss. Train : 0.03053269727783162 . Test : 0.061671242875112386\n",
      "123 iter loss. Train : 0.03048053567161451 . Test : 0.061778980976800804\n",
      "124 iter loss. Train : 0.0304844850368775 . Test : 0.06146351849042536\n",
      "125 iter loss. Train : 0.030405196782206986 . Test : 0.061991502889235356\n",
      "126 iter loss. Train : 0.030321400132421662 . Test : 0.06246709720466836\n",
      "127 iter loss. Train : 0.030249772818109564 . Test : 0.062182635904181126\n",
      "128 iter loss. Train : 0.030231583327671688 . Test : 0.06271876272192081\n",
      "129 iter loss. Train : 0.030223300057358814 . Test : 0.06314842754557003\n",
      "130 iter loss. Train : 0.030186673332887975 . Test : 0.06302390348911542\n",
      "131 iter loss. Train : 0.030128731986224736 . Test : 0.06284966182032231\n",
      "132 iter loss. Train : 0.03005673667385246 . Test : 0.06274530614406437\n",
      "133 iter loss. Train : 0.029974896496716055 . Test : 0.06240362973776198\n",
      "134 iter loss. Train : 0.029893854509229056 . Test : 0.0626806142097401\n",
      "135 iter loss. Train : 0.029903306131707198 . Test : 0.06292128647854112\n",
      "136 iter loss. Train : 0.029968939418814254 . Test : 0.06328084202432215\n",
      "137 iter loss. Train : 0.029882003859081758 . Test : 0.06337459487532128\n",
      "138 iter loss. Train : 0.0298593674684932 . Test : 0.0638146792053755\n",
      "139 iter loss. Train : 0.029667383977429088 . Test : 0.0631913483334545\n",
      "140 iter loss. Train : 0.029626926892635987 . Test : 0.06358889051621082\n",
      "141 iter loss. Train : 0.029548612273341532 . Test : 0.0634699567300602\n",
      "142 iter loss. Train : 0.029522404880669824 . Test : 0.06330002609523955\n",
      "143 iter loss. Train : 0.02947544211768296 . Test : 0.0628011764782189\n",
      "144 iter loss. Train : 0.029430081632779048 . Test : 0.06284280669764758\n",
      "145 iter loss. Train : 0.02935003839291873 . Test : 0.06299522525719052\n",
      "146 iter loss. Train : 0.02932220645588973 . Test : 0.06343171472884908\n",
      "147 iter loss. Train : 0.029287934470437864 . Test : 0.063323473562748\n",
      "148 iter loss. Train : 0.02921446219652432 . Test : 0.06315586012188577\n",
      "149 iter loss. Train : 0.029114502363982907 . Test : 0.06327948408125067\n",
      "150 iter loss. Train : 0.02908272167716567 . Test : 0.06394466430781193\n",
      "151 iter loss. Train : 0.029104535888169667 . Test : 0.06405796685810809\n",
      "152 iter loss. Train : 0.02902745854675833 . Test : 0.06376151283100084\n",
      "153 iter loss. Train : 0.028926529151064983 . Test : 0.06385094984160997\n",
      "154 iter loss. Train : 0.02891582987857053 . Test : 0.06403071723974257\n",
      "155 iter loss. Train : 0.028848998205153215 . Test : 0.06376204755603504\n",
      "156 iter loss. Train : 0.02880442321641979 . Test : 0.0636707815851346\n",
      "157 iter loss. Train : 0.028719637951443864 . Test : 0.0634163612062602\n",
      "158 iter loss. Train : 0.02871221935587512 . Test : 0.06345202891989694\n",
      "159 iter loss. Train : 0.02870638509606655 . Test : 0.06398587132192655\n",
      "160 iter loss. Train : 0.02863017144643151 . Test : 0.06355964937272957\n",
      "161 iter loss. Train : 0.028552447497331126 . Test : 0.06292475531152199\n",
      "162 iter loss. Train : 0.028535362262751923 . Test : 0.0630617963967156\n",
      "163 iter loss. Train : 0.02852059621390816 . Test : 0.06313557708691213\n",
      "164 iter loss. Train : 0.02855004206210246 . Test : 0.06337007188680534\n",
      "165 iter loss. Train : 0.028446826880899508 . Test : 0.06271014797022509\n",
      "166 iter loss. Train : 0.028344760979772694 . Test : 0.06323532576368525\n",
      "167 iter loss. Train : 0.028298516892011853 . Test : 0.06293586260368089\n",
      "168 iter loss. Train : 0.02829653483456843 . Test : 0.06328458685659702\n",
      "169 iter loss. Train : 0.028217374662676514 . Test : 0.06394044041943775\n",
      "170 iter loss. Train : 0.02818928554998789 . Test : 0.06391061534946464\n",
      "171 iter loss. Train : 0.02813429124461364 . Test : 0.06380992434762868\n",
      "172 iter loss. Train : 0.028151928679196036 . Test : 0.0638734153854368\n",
      "173 iter loss. Train : 0.028119584486033345 . Test : 0.06364293441235519\n",
      "174 iter loss. Train : 0.028016489206292523 . Test : 0.06374257166051385\n",
      "175 iter loss. Train : 0.027975726554828488 . Test : 0.06400615039597837\n",
      "176 iter loss. Train : 0.027981432379360797 . Test : 0.06380970055983107\n",
      "177 iter loss. Train : 0.02791660014636775 . Test : 0.06401668386593747\n",
      "178 iter loss. Train : 0.027944306977611973 . Test : 0.06449110717271825\n",
      "179 iter loss. Train : 0.027880818130263343 . Test : 0.06477009421158314\n",
      "180 iter loss. Train : 0.027821443296521718 . Test : 0.06466474031793888\n",
      "181 iter loss. Train : 0.027775983810367517 . Test : 0.0644834051092339\n",
      "182 iter loss. Train : 0.027757736904957038 . Test : 0.06500161130500264\n",
      "183 iter loss. Train : 0.027724122799894273 . Test : 0.06505586798465648\n",
      "184 iter loss. Train : 0.027674255235416348 . Test : 0.06448297986316759\n",
      "185 iter loss. Train : 0.02758656994793455 . Test : 0.06411401498438835\n",
      "186 iter loss. Train : 0.027566601205089924 . Test : 0.06441932418844794\n",
      "187 iter loss. Train : 0.027532999525320404 . Test : 0.06473343005095512\n",
      "188 iter loss. Train : 0.02749043798680525 . Test : 0.06500661808130871\n",
      "189 iter loss. Train : 0.027430375204941744 . Test : 0.06510080738657802\n",
      "190 iter loss. Train : 0.02739658250955061 . Test : 0.0646473884687954\n",
      "191 iter loss. Train : 0.0274217537415154 . Test : 0.06421560758035227\n",
      "192 iter loss. Train : 0.027377367777484694 . Test : 0.0640839156322789\n",
      "193 iter loss. Train : 0.027358983449159102 . Test : 0.06374535453770151\n",
      "194 iter loss. Train : 0.027349006036468226 . Test : 0.06379190126631784\n",
      "195 iter loss. Train : 0.02728024804821632 . Test : 0.06413084013925727\n",
      "196 iter loss. Train : 0.027235708584432493 . Test : 0.06378254666818894\n",
      "197 iter loss. Train : 0.027226046071517386 . Test : 0.06368843381216832\n",
      "198 iter loss. Train : 0.02711353346651395 . Test : 0.06474165812778206\n",
      "199 iter loss. Train : 0.027109564164800887 . Test : 0.0650910246232326\n",
      "200 iter loss. Train : 0.02707532931133363 . Test : 0.06556371246165289\n",
      "201 iter loss. Train : 0.027032836554057003 . Test : 0.06536709480924907\n",
      "202 iter loss. Train : 0.027046126309755416 . Test : 0.0647595346205446\n",
      "203 iter loss. Train : 0.026962971276294007 . Test : 0.06440990476926436\n",
      "204 iter loss. Train : 0.026912407145534514 . Test : 0.06477135367414388\n",
      "205 iter loss. Train : 0.026890139910362935 . Test : 0.06526338483039675\n",
      "206 iter loss. Train : 0.026843770742966837 . Test : 0.06543395503290585\n",
      "207 iter loss. Train : 0.026789457104795442 . Test : 0.06517887159111922\n",
      "208 iter loss. Train : 0.026792705696257427 . Test : 0.06509702680207205\n",
      "209 iter loss. Train : 0.02676033045040021 . Test : 0.065306954741485\n",
      "210 iter loss. Train : 0.026743429859977557 . Test : 0.0648940652471834\n",
      "211 iter loss. Train : 0.02669905188233603 . Test : 0.06550742421437751\n",
      "212 iter loss. Train : 0.02662903264294365 . Test : 0.0657757478539575\n",
      "213 iter loss. Train : 0.026623931640407904 . Test : 0.06574375230460985\n",
      "214 iter loss. Train : 0.026589768612472444 . Test : 0.06534854549852603\n",
      "215 iter loss. Train : 0.026566653787462972 . Test : 0.06540493808804272\n",
      "216 iter loss. Train : 0.02659134675746859 . Test : 0.06600108202532413\n",
      "217 iter loss. Train : 0.026516614785499413 . Test : 0.06503781680559263\n",
      "218 iter loss. Train : 0.026457413724577935 . Test : 0.0655700810611389\n",
      "219 iter loss. Train : 0.026452710964761768 . Test : 0.0655681763890909\n",
      "220 iter loss. Train : 0.026424992223701947 . Test : 0.06564754735308641\n",
      "221 iter loss. Train : 0.026384952522411156 . Test : 0.06562517472764344\n",
      "222 iter loss. Train : 0.02632482125625982 . Test : 0.06546348406268257\n",
      "223 iter loss. Train : 0.026374598552529268 . Test : 0.06536913206779803\n",
      "224 iter loss. Train : 0.02630554397745845 . Test : 0.06548030473251525\n",
      "225 iter loss. Train : 0.02630911344362408 . Test : 0.0658414304394268\n",
      "226 iter loss. Train : 0.02622599317258048 . Test : 0.06543230912222167\n"
     ]
    },
    {
     "name": "stdout",
     "output_type": "stream",
     "text": [
      "227 iter loss. Train : 0.02624597682015141 . Test : 0.06540842464577287\n",
      "228 iter loss. Train : 0.026194322693830183 . Test : 0.06603439924589151\n",
      "229 iter loss. Train : 0.026144415654406613 . Test : 0.06624073721893824\n",
      "230 iter loss. Train : 0.026128335707092547 . Test : 0.06578629951653424\n",
      "231 iter loss. Train : 0.026097263890192627 . Test : 0.06632956937059074\n",
      "232 iter loss. Train : 0.026042641581283207 . Test : 0.06588599581732207\n",
      "233 iter loss. Train : 0.02601195848005137 . Test : 0.06635808653425022\n",
      "234 iter loss. Train : 0.025992643892055835 . Test : 0.06624903441672648\n",
      "235 iter loss. Train : 0.02594383641733139 . Test : 0.06622739302496392\n",
      "236 iter loss. Train : 0.025915726103419242 . Test : 0.06625224240344353\n",
      "237 iter loss. Train : 0.02594119797503705 . Test : 0.06594263558656688\n",
      "238 iter loss. Train : 0.025980695250161775 . Test : 0.0659466575829212\n",
      "239 iter loss. Train : 0.0258812384442324 . Test : 0.06616146035518053\n",
      "240 iter loss. Train : 0.0258205751507585 . Test : 0.06616818712364679\n",
      "241 iter loss. Train : 0.025795261185526937 . Test : 0.06610956570007087\n",
      "242 iter loss. Train : 0.025701726489566895 . Test : 0.06680558998574818\n",
      "243 iter loss. Train : 0.025691163441524334 . Test : 0.06667586756188942\n",
      "244 iter loss. Train : 0.025683285738349212 . Test : 0.06696867888494117\n",
      "245 iter loss. Train : 0.025617301974098772 . Test : 0.06642898751172223\n",
      "246 iter loss. Train : 0.025637683002803394 . Test : 0.06603096573033572\n",
      "247 iter loss. Train : 0.025653152708609427 . Test : 0.06605183216538725\n",
      "248 iter loss. Train : 0.025613299594375114 . Test : 0.06614202271965339\n",
      "249 iter loss. Train : 0.025533941333289078 . Test : 0.06650773624614204\n",
      "250 iter loss. Train : 0.0255472411938051 . Test : 0.06612970350178841\n",
      "251 iter loss. Train : 0.025480572271259775 . Test : 0.06669296157210317\n",
      "252 iter loss. Train : 0.02544665219633825 . Test : 0.06666449251693335\n",
      "253 iter loss. Train : 0.025448888050369534 . Test : 0.06662273284268201\n",
      "254 iter loss. Train : 0.025395278031286536 . Test : 0.06686582901800556\n",
      "255 iter loss. Train : 0.025366111717127476 . Test : 0.06665357898186407\n",
      "256 iter loss. Train : 0.025305486173334897 . Test : 0.06711250831381757\n",
      "257 iter loss. Train : 0.025283510663640298 . Test : 0.0668499264042813\n",
      "258 iter loss. Train : 0.025239773457228967 . Test : 0.06683430042251283\n",
      "259 iter loss. Train : 0.025241028673526535 . Test : 0.06688873637579892\n",
      "260 iter loss. Train : 0.02523575253026619 . Test : 0.06737422497451748\n",
      "261 iter loss. Train : 0.02530258456471024 . Test : 0.06797222168834285\n",
      "262 iter loss. Train : 0.02525822546681852 . Test : 0.06732271057309341\n",
      "263 iter loss. Train : 0.02517207713066906 . Test : 0.0673102163737383\n",
      "264 iter loss. Train : 0.02513198719116996 . Test : 0.0670988931876053\n",
      "265 iter loss. Train : 0.025121869406972187 . Test : 0.06706959570754023\n",
      "266 iter loss. Train : 0.025114231123274777 . Test : 0.06665215805093705\n",
      "267 iter loss. Train : 0.025132475971086178 . Test : 0.0666860921528936\n",
      "268 iter loss. Train : 0.02508274999435888 . Test : 0.06642058551155433\n",
      "269 iter loss. Train : 0.02506052721302646 . Test : 0.06674599455283638\n",
      "270 iter loss. Train : 0.02504659950318572 . Test : 0.0666785537417548\n",
      "271 iter loss. Train : 0.025012712683237844 . Test : 0.06706560023145908\n",
      "272 iter loss. Train : 0.024969421453207703 . Test : 0.06700314931972386\n",
      "273 iter loss. Train : 0.02493925381618322 . Test : 0.06722626529505155\n",
      "274 iter loss. Train : 0.024876954270592333 . Test : 0.06758226258987406\n",
      "275 iter loss. Train : 0.024857039443074085 . Test : 0.06735898240483737\n",
      "276 iter loss. Train : 0.024822595819606778 . Test : 0.06719540138433636\n",
      "277 iter loss. Train : 0.024829215341638948 . Test : 0.06732480506806271\n",
      "278 iter loss. Train : 0.02478794424045931 . Test : 0.06761830661180825\n",
      "279 iter loss. Train : 0.02478418164752595 . Test : 0.06764047913939614\n",
      "280 iter loss. Train : 0.024761920876517532 . Test : 0.06783083682197627\n",
      "281 iter loss. Train : 0.024753053980544157 . Test : 0.06798371044805349\n",
      "282 iter loss. Train : 0.02470062422513135 . Test : 0.06817006402655205\n",
      "283 iter loss. Train : 0.024686055511891854 . Test : 0.06790871407820646\n",
      "284 iter loss. Train : 0.024662358692501978 . Test : 0.06774488061835847\n",
      "285 iter loss. Train : 0.024625001334973525 . Test : 0.06774230895258566\n",
      "286 iter loss. Train : 0.024627722851587475 . Test : 0.06777968111541362\n",
      "287 iter loss. Train : 0.0246238836540446 . Test : 0.0675374220021358\n",
      "288 iter loss. Train : 0.02458423580459215 . Test : 0.06762758633246088\n",
      "289 iter loss. Train : 0.02457775874158104 . Test : 0.06763615024251944\n",
      "290 iter loss. Train : 0.02457025264893411 . Test : 0.06811464730666934\n",
      "291 iter loss. Train : 0.02457062727600651 . Test : 0.06831410869659357\n",
      "292 iter loss. Train : 0.024518085258314816 . Test : 0.06806755770880694\n",
      "293 iter loss. Train : 0.024480454769423187 . Test : 0.06781952029906824\n",
      "294 iter loss. Train : 0.02441326236887632 . Test : 0.06753093571940211\n",
      "295 iter loss. Train : 0.024390550288908748 . Test : 0.06707225247998684\n",
      "296 iter loss. Train : 0.02437770657207656 . Test : 0.06769673657576224\n",
      "297 iter loss. Train : 0.02432185686262107 . Test : 0.06784344572837606\n",
      "298 iter loss. Train : 0.024309764080150398 . Test : 0.06774593066948152\n",
      "299 iter loss. Train : 0.024328791280171867 . Test : 0.06768873276557165\n",
      "\n"
     ]
    }
   ],
   "source": [
    "X = data_preparation(train['data'])\n",
    "y = labels_preparation(train['labels'])\n",
    "X_train, y_train, X_test, y_test = divide_data(X, y)\n",
    "w = w_initial1(X)\n",
    "w, train_eval, test_eval = grad_down_loss(X_train, y_train, X_test, y_test, w)"
   ]
  },
  {
   "cell_type": "code",
   "execution_count": 14,
   "metadata": {},
   "outputs": [
    {
     "data": {
      "text/plain": [
       "<matplotlib.legend.Legend at 0xc9751f82e8>"
      ]
     },
     "execution_count": 14,
     "metadata": {},
     "output_type": "execute_result"
    },
    {
     "data": {
      "image/png": "[encoded data removed]",
      "text/plain": [
       "<Figure size 432x288 with 1 Axes>"
      ]
     },
     "metadata": {
      "needs_background": "light"
     },
     "output_type": "display_data"
    }
   ],
   "source": [
    "plt.title('LogLoss')\n",
    "plt.plot(train_eval[0], label='train')\n",
    "plt.plot(test_eval[0], label='test')\n",
    "plt.legend()"
   ]
  },
  {
   "cell_type": "code",
   "execution_count": 15,
   "metadata": {},
   "outputs": [
    {
     "data": {
      "text/plain": [
       "<matplotlib.legend.Legend at 0xc975281630>"
      ]
     },
     "execution_count": 15,
     "metadata": {},
     "output_type": "execute_result"
    },
    {
     "data": {
      "image/png": "[encoded data removed]",
      "text/plain": [
       "<Figure size 432x288 with 1 Axes>"
      ]
     },
     "metadata": {
      "needs_background": "light"
     },
     "output_type": "display_data"
    }
   ],
   "source": [
    "plt.title('Accuracy')\n",
    "plt.plot(train_eval[1], label='train')\n",
    "plt.plot(test_eval[1], label='test')\n",
    "plt.legend()"
   ]
  },
  {
   "cell_type": "code",
   "execution_count": 16,
   "metadata": {},
   "outputs": [
    {
     "data": {
      "application/vnd.jupyter.widget-view+json": {
       "model_id": "1013411a7e814aeb9656218e78f7870c",
       "version_major": 2,
       "version_minor": 0
      },
      "text/plain": [
       "HBox(children=(IntProgress(value=0, max=50), HTML(value='')))"
      ]
     },
     "metadata": {},
     "output_type": "display_data"
    },
    {
     "name": "stdout",
     "output_type": "stream",
     "text": [
      "0 iter loss. Train : 0.09457883776609781 . Test : 0.09858687706579204\n",
      "1 iter loss. Train : 0.0769912680351603 . Test : 0.08212118140995141\n",
      "2 iter loss. Train : 0.06863002211372712 . Test : 0.07623044428014637\n",
      "3 iter loss. Train : 0.06438618598034201 . Test : 0.07265560160321821\n",
      "4 iter loss. Train : 0.0612850639236703 . Test : 0.07079620167621717\n",
      "5 iter loss. Train : 0.058606254201404605 . Test : 0.06920916826814197\n",
      "6 iter loss. Train : 0.05660515490757321 . Test : 0.0676683716532686\n",
      "7 iter loss. Train : 0.054966679125639566 . Test : 0.06742675900665063\n",
      "8 iter loss. Train : 0.053619562789620046 . Test : 0.06598672387123102\n",
      "9 iter loss. Train : 0.052425181963742774 . Test : 0.06531871290948593\n",
      "10 iter loss. Train : 0.05122275807922316 . Test : 0.06460781987050762\n",
      "11 iter loss. Train : 0.050428723514925194 . Test : 0.06399677517409326\n",
      "12 iter loss. Train : 0.04932783440353548 . Test : 0.06375073805009379\n",
      "13 iter loss. Train : 0.048564270977086446 . Test : 0.0639708500174884\n",
      "14 iter loss. Train : 0.047868172084137496 . Test : 0.0633986250375802\n",
      "15 iter loss. Train : 0.04718860242955369 . Test : 0.0632541102023936\n",
      "16 iter loss. Train : 0.04660654336074143 . Test : 0.06289037680928071\n",
      "17 iter loss. Train : 0.04607315664764668 . Test : 0.06254682601819539\n",
      "18 iter loss. Train : 0.04566305944953047 . Test : 0.06295374288119307\n",
      "19 iter loss. Train : 0.045105388627021965 . Test : 0.06288465557144253\n",
      "20 iter loss. Train : 0.04479401841829875 . Test : 0.062486211585417305\n",
      "21 iter loss. Train : 0.044404802756359954 . Test : 0.062002359913054104\n",
      "22 iter loss. Train : 0.04392033597703605 . Test : 0.06186130192521714\n",
      "23 iter loss. Train : 0.043580109212096416 . Test : 0.061932992841427004\n",
      "24 iter loss. Train : 0.04305024466312559 . Test : 0.06144724527793776\n",
      "25 iter loss. Train : 0.0427471012623561 . Test : 0.061866749540681686\n",
      "26 iter loss. Train : 0.04257112986246631 . Test : 0.06254081080206199\n",
      "27 iter loss. Train : 0.04205518222371508 . Test : 0.06169440096319431\n",
      "28 iter loss. Train : 0.041721908314274525 . Test : 0.061268440317644314\n",
      "29 iter loss. Train : 0.041462233396868935 . Test : 0.061085217531889335\n",
      "30 iter loss. Train : 0.04125279985410941 . Test : 0.060580671898701095\n",
      "31 iter loss. Train : 0.04087855444717251 . Test : 0.0610076012064102\n",
      "32 iter loss. Train : 0.04064592695021737 . Test : 0.06108730530025946\n",
      "33 iter loss. Train : 0.04042078805774607 . Test : 0.06074990452623192\n",
      "34 iter loss. Train : 0.04017466319012552 . Test : 0.060711246362530946\n",
      "35 iter loss. Train : 0.04003001087687866 . Test : 0.06094075710978915\n",
      "36 iter loss. Train : 0.03972106572219618 . Test : 0.0605622668346273\n",
      "37 iter loss. Train : 0.03952353447611305 . Test : 0.061243111140419526\n",
      "38 iter loss. Train : 0.039287607727998074 . Test : 0.06092811588925914\n",
      "39 iter loss. Train : 0.039165295688280394 . Test : 0.061277158581015186\n",
      "40 iter loss. Train : 0.03898466845244697 . Test : 0.0613963402516761\n",
      "41 iter loss. Train : 0.038760457630697256 . Test : 0.06172069102704961\n",
      "42 iter loss. Train : 0.038556319198283576 . Test : 0.0609532581962414\n",
      "43 iter loss. Train : 0.03835762876136253 . Test : 0.06086137162263087\n",
      "44 iter loss. Train : 0.03825762413362004 . Test : 0.06062738870164122\n",
      "45 iter loss. Train : 0.03795815229794548 . Test : 0.060712009277742465\n",
      "46 iter loss. Train : 0.037813035521642564 . Test : 0.06074443500095316\n",
      "47 iter loss. Train : 0.03761295605936829 . Test : 0.06136735657677804\n",
      "48 iter loss. Train : 0.037494951238605044 . Test : 0.06128085556874558\n",
      "49 iter loss. Train : 0.03732842166328101 . Test : 0.061146964487788995\n",
      "\n"
     ]
    }
   ],
   "source": [
    "w = w_initial1(X)\n",
    "w, train_eval, test_eval = grad_down_loss(X_train, y_train, X_test, y_test, w, iterat = 50)"
   ]
  },
  {
   "cell_type": "code",
   "execution_count": 17,
   "metadata": {},
   "outputs": [
    {
     "data": {
      "text/plain": [
       "<matplotlib.legend.Legend at 0xc96ef99588>"
      ]
     },
     "execution_count": 17,
     "metadata": {},
     "output_type": "execute_result"
    },
    {
     "data": {
      "image/png": "[encoded data removed]",
      "text/plain": [
       "<Figure size 432x288 with 1 Axes>"
      ]
     },
     "metadata": {
      "needs_background": "light"
     },
     "output_type": "display_data"
    }
   ],
   "source": [
    "plt.title('LogLoss')\n",
    "plt.plot(train_eval[0], label='train')\n",
    "plt.plot(test_eval[0], label='test')\n",
    "plt.legend()"
   ]
  },
  {
   "cell_type": "code",
   "execution_count": 18,
   "metadata": {},
   "outputs": [
    {
     "data": {
      "text/plain": [
       "<matplotlib.legend.Legend at 0xc96f005a20>"
      ]
     },
     "execution_count": 18,
     "metadata": {},
     "output_type": "execute_result"
    },
    {
     "data": {
      "image/png": "[encoded data removed]",
      "text/plain": [
       "<Figure size 432x288 with 1 Axes>"
      ]
     },
     "metadata": {
      "needs_background": "light"
     },
     "output_type": "display_data"
    }
   ],
   "source": [
    "plt.title('Accuracy')\n",
    "plt.plot(train_eval[1], label='train')\n",
    "plt.plot(test_eval[1], label='test')\n",
    "plt.legend()"
   ]
  }
 ],
 "metadata": {
  "kernelspec": {
   "display_name": "Python 3",
   "language": "python",
   "name": "python3"
  },
  "language_info": {
   "codemirror_mode": {
    "name": "ipython",
    "version": 3
   },
   "file_extension": ".py",
   "mimetype": "text/x-python",
   "name": "python",
   "nbconvert_exporter": "python",
   "pygments_lexer": "ipython3",
   "version": "3.7.5"
  }
 },
 "nbformat": 4,
 "nbformat_minor": 2
}
